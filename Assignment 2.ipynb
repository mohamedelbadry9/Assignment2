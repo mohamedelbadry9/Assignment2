{
 "cells":[
  {
   "cell_type":"markdown",
   "source":[
    "## Assignment 2\n",
    "by: Mohamed Hatem El-Badry     900211356"
   ],
   "attachments":{
    
   },
   "metadata":{
    "datalore":{
     "type":"MD",
     "hide_input_from_viewers":false,
     "hide_output_from_viewers":false
    }
   }
  },
  {
   "cell_type":"code",
   "source":[
    "!pip install pandas\n",
    "import pandas as pd\n",
    "!pip install numpy\n",
    "import numpy as np"
   ],
   "execution_count":1,
   "outputs":[
    {
     "name":"stdout",
     "text":[
      "Requirement already satisfied: pandas in \/opt\/python\/envs\/default\/lib\/python3.8\/site-packages (1.3.5)\r\n",
      "Requirement already satisfied: python-dateutil>=2.7.3 in \/opt\/python\/envs\/default\/lib\/python3.8\/site-packages (from pandas) (2.8.2)\r\n",
      "Requirement already satisfied: numpy>=1.17.3 in \/opt\/python\/envs\/default\/lib\/python3.8\/site-packages (from pandas) (1.21.5)\r\n",
      "Requirement already satisfied: pytz>=2017.3 in \/opt\/python\/envs\/default\/lib\/python3.8\/site-packages (from pandas) (2022.1)\r\n",
      "Requirement already satisfied: six>=1.5 in \/opt\/python\/envs\/default\/lib\/python3.8\/site-packages (from python-dateutil>=2.7.3->pandas) (1.16.0)\r\n",
      "\u001b[33mWARNING: You are using pip version 21.3.1; however, version 22.0.4 is available.\r\n",
      "You should consider upgrading via the '\/opt\/python\/envs\/default\/bin\/python -m pip install --upgrade pip' command.\u001b[0m\r\n",
      "Requirement already satisfied: numpy in \/opt\/python\/envs\/default\/lib\/python3.8\/site-packages (1.21.5)\r\n",
      "\u001b[33mWARNING: You are using pip version 21.3.1; however, version 22.0.4 is available.\r\n",
      "You should consider upgrading via the '\/opt\/python\/envs\/default\/bin\/python -m pip install --upgrade pip' command.\u001b[0m\r\n"
     ],
     "output_type":"stream"
    }
   ],
   "metadata":{
    "datalore":{
     "type":"CODE",
     "hide_input_from_viewers":false,
     "hide_output_from_viewers":false
    }
   }
  },
  {
   "cell_type":"markdown",
   "source":[
    "## **Part I:**"
   ],
   "attachments":{
    
   },
   "metadata":{
    "datalore":{
     "type":"MD",
     "hide_input_from_viewers":false,
     "hide_output_from_viewers":false
    }
   }
  },
  {
   "cell_type":"markdown",
   "source":[
    "### *Statistical analysis of results of international football matches starting from 1872 up to 2022*"
   ],
   "attachments":{
    
   },
   "metadata":{
    "datalore":{
     "type":"MD",
     "hide_input_from_viewers":false,
     "hide_output_from_viewers":false
    }
   }
  },
  {
   "cell_type":"markdown",
   "source":[
    "#### in this part, i will analyze the following: the probability of 3 different European countries' winning chance in comparison to Egypt's, in friendly tournament in home land"
   ],
   "attachments":{
    
   },
   "metadata":{
    "datalore":{
     "type":"MD",
     "hide_input_from_viewers":false,
     "hide_output_from_viewers":false
    }
   }
  },
  {
   "cell_type":"code",
   "source":[
    "df= pd.read_csv('results.csv' , encoding='latin-1')\n",
    "df"
   ],
   "execution_count":2,
   "outputs":[
    {
     "data":{
      "text\/html":[
       "<div>\n",
       "<style scoped>\n",
       "    .dataframe tbody tr th:only-of-type {\n",
       "        vertical-align: middle;\n",
       "    }\n",
       "\n",
       "    .dataframe tbody tr th {\n",
       "        vertical-align: top;\n",
       "    }\n",
       "\n",
       "    .dataframe thead th {\n",
       "        text-align: right;\n",
       "    }\n",
       "<\/style>\n",
       "<table border=\"1\" class=\"dataframe\">\n",
       "  <thead>\n",
       "    <tr style=\"text-align: right;\">\n",
       "      <th><\/th>\n",
       "      <th>date<\/th>\n",
       "      <th>home_team<\/th>\n",
       "      <th>away_team<\/th>\n",
       "      <th>home_score<\/th>\n",
       "      <th>away_score<\/th>\n",
       "      <th>tournament<\/th>\n",
       "      <th>city<\/th>\n",
       "      <th>country<\/th>\n",
       "      <th>neutral<\/th>\n",
       "    <\/tr>\n",
       "  <\/thead>\n",
       "  <tbody>\n",
       "    <tr>\n",
       "      <th>0<\/th>\n",
       "      <td>1872-11-30<\/td>\n",
       "      <td>Scotland<\/td>\n",
       "      <td>England<\/td>\n",
       "      <td>0<\/td>\n",
       "      <td>0<\/td>\n",
       "      <td>Friendly<\/td>\n",
       "      <td>Glasgow<\/td>\n",
       "      <td>Scotland<\/td>\n",
       "      <td>False<\/td>\n",
       "    <\/tr>\n",
       "    <tr>\n",
       "      <th>1<\/th>\n",
       "      <td>1873-03-08<\/td>\n",
       "      <td>England<\/td>\n",
       "      <td>Scotland<\/td>\n",
       "      <td>4<\/td>\n",
       "      <td>2<\/td>\n",
       "      <td>Friendly<\/td>\n",
       "      <td>London<\/td>\n",
       "      <td>England<\/td>\n",
       "      <td>False<\/td>\n",
       "    <\/tr>\n",
       "    <tr>\n",
       "      <th>2<\/th>\n",
       "      <td>1874-03-07<\/td>\n",
       "      <td>Scotland<\/td>\n",
       "      <td>England<\/td>\n",
       "      <td>2<\/td>\n",
       "      <td>1<\/td>\n",
       "      <td>Friendly<\/td>\n",
       "      <td>Glasgow<\/td>\n",
       "      <td>Scotland<\/td>\n",
       "      <td>False<\/td>\n",
       "    <\/tr>\n",
       "    <tr>\n",
       "      <th>3<\/th>\n",
       "      <td>1875-03-06<\/td>\n",
       "      <td>England<\/td>\n",
       "      <td>Scotland<\/td>\n",
       "      <td>2<\/td>\n",
       "      <td>2<\/td>\n",
       "      <td>Friendly<\/td>\n",
       "      <td>London<\/td>\n",
       "      <td>England<\/td>\n",
       "      <td>False<\/td>\n",
       "    <\/tr>\n",
       "    <tr>\n",
       "      <th>4<\/th>\n",
       "      <td>1876-03-04<\/td>\n",
       "      <td>Scotland<\/td>\n",
       "      <td>England<\/td>\n",
       "      <td>3<\/td>\n",
       "      <td>0<\/td>\n",
       "      <td>Friendly<\/td>\n",
       "      <td>Glasgow<\/td>\n",
       "      <td>Scotland<\/td>\n",
       "      <td>False<\/td>\n",
       "    <\/tr>\n",
       "    <tr>\n",
       "      <th>...<\/th>\n",
       "      <td>...<\/td>\n",
       "      <td>...<\/td>\n",
       "      <td>...<\/td>\n",
       "      <td>...<\/td>\n",
       "      <td>...<\/td>\n",
       "      <td>...<\/td>\n",
       "      <td>...<\/td>\n",
       "      <td>...<\/td>\n",
       "      <td>...<\/td>\n",
       "    <\/tr>\n",
       "    <tr>\n",
       "      <th>43183<\/th>\n",
       "      <td>2\/1\/2022<\/td>\n",
       "      <td>Suriname<\/td>\n",
       "      <td>Guyana<\/td>\n",
       "      <td>2<\/td>\n",
       "      <td>1<\/td>\n",
       "      <td>Friendly<\/td>\n",
       "      <td>Paramaribo<\/td>\n",
       "      <td>Suriname<\/td>\n",
       "      <td>False<\/td>\n",
       "    <\/tr>\n",
       "    <tr>\n",
       "      <th>43184<\/th>\n",
       "      <td>2\/2\/2022<\/td>\n",
       "      <td>Burkina Faso<\/td>\n",
       "      <td>Senegal<\/td>\n",
       "      <td>1<\/td>\n",
       "      <td>3<\/td>\n",
       "      <td>African Cup of Nations<\/td>\n",
       "      <td>YaoundÃ©<\/td>\n",
       "      <td>Cameroon<\/td>\n",
       "      <td>True<\/td>\n",
       "    <\/tr>\n",
       "    <tr>\n",
       "      <th>43185<\/th>\n",
       "      <td>2\/3\/2022<\/td>\n",
       "      <td>Cameroon<\/td>\n",
       "      <td>Egypt<\/td>\n",
       "      <td>0<\/td>\n",
       "      <td>0<\/td>\n",
       "      <td>African Cup of Nations<\/td>\n",
       "      <td>YaoundÃ©<\/td>\n",
       "      <td>Cameroon<\/td>\n",
       "      <td>False<\/td>\n",
       "    <\/tr>\n",
       "    <tr>\n",
       "      <th>43186<\/th>\n",
       "      <td>2\/5\/2022<\/td>\n",
       "      <td>Cameroon<\/td>\n",
       "      <td>Burkina Faso<\/td>\n",
       "      <td>3<\/td>\n",
       "      <td>3<\/td>\n",
       "      <td>African Cup of Nations<\/td>\n",
       "      <td>YaoundÃ©<\/td>\n",
       "      <td>Cameroon<\/td>\n",
       "      <td>False<\/td>\n",
       "    <\/tr>\n",
       "    <tr>\n",
       "      <th>43187<\/th>\n",
       "      <td>2\/6\/2022<\/td>\n",
       "      <td>Senegal<\/td>\n",
       "      <td>Egypt<\/td>\n",
       "      <td>0<\/td>\n",
       "      <td>0<\/td>\n",
       "      <td>African Cup of Nations<\/td>\n",
       "      <td>YaoundÃ©<\/td>\n",
       "      <td>Cameroon<\/td>\n",
       "      <td>True<\/td>\n",
       "    <\/tr>\n",
       "  <\/tbody>\n",
       "<\/table>\n",
       "<p>43188 rows × 9 columns<\/p>\n",
       "<\/div>"
      ]
     },
     "metadata":{
      
     },
     "output_type":"display_data"
    }
   ],
   "metadata":{
    "datalore":{
     "type":"CODE",
     "hide_input_from_viewers":false,
     "hide_output_from_viewers":false
    }
   }
  },
  {
   "cell_type":"code",
   "source":[
    "x=df['home_score']-df['away_score']"
   ],
   "execution_count":3,
   "outputs":[
    
   ],
   "metadata":{
    "datalore":{
     "type":"CODE",
     "hide_input_from_viewers":false,
     "hide_output_from_viewers":false
    }
   }
  },
  {
   "cell_type":"code",
   "source":[
    "conditions=[(x<0),(x>0), (x==0)]"
   ],
   "execution_count":4,
   "outputs":[
    
   ],
   "metadata":{
    "datalore":{
     "type":"CODE",
     "hide_input_from_viewers":false,
     "hide_output_from_viewers":false
    }
   }
  },
  {
   "cell_type":"code",
   "source":[
    "values=['lose','win','draw']"
   ],
   "execution_count":5,
   "outputs":[
    
   ],
   "metadata":{
    "datalore":{
     "type":"CODE",
     "hide_input_from_viewers":false,
     "hide_output_from_viewers":false
    }
   }
  },
  {
   "cell_type":"code",
   "source":[
    "df['result_home']=np.select(conditions,values)"
   ],
   "execution_count":6,
   "outputs":[
    
   ],
   "metadata":{
    "datalore":{
     "type":"CODE",
     "hide_input_from_viewers":false,
     "hide_output_from_viewers":false
    }
   }
  },
  {
   "cell_type":"code",
   "source":[
    "df['result_home'].value_counts(normalize=True)"
   ],
   "execution_count":7,
   "outputs":[
    {
     "data":{
      "text\/html":[
       
      ]
     },
     "metadata":{
      
     },
     "output_type":"display_data"
    }
   ],
   "metadata":{
    "datalore":{
     "type":"CODE",
     "hide_input_from_viewers":false,
     "hide_output_from_viewers":false
    }
   }
  },
  {
   "cell_type":"code",
   "source":[
    "x=df['result_home'].value_counts()\n",
    "x=np.array(x)"
   ],
   "execution_count":8,
   "outputs":[
    
   ],
   "metadata":{
    "datalore":{
     "type":"CODE",
     "hide_input_from_viewers":false,
     "hide_output_from_viewers":false
    }
   }
  },
  {
   "cell_type":"code",
   "source":[
    "x.sum()"
   ],
   "execution_count":9,
   "outputs":[
    {
     "data":{
      "text\/plain":[
       "43188"
      ]
     },
     "metadata":{
      
     },
     "output_type":"display_data"
    }
   ],
   "metadata":{
    "datalore":{
     "type":"CODE",
     "hide_input_from_viewers":false,
     "hide_output_from_viewers":false
    }
   }
  },
  {
   "cell_type":"code",
   "source":[
    "df_noneutral=df[df['neutral']==False]"
   ],
   "execution_count":10,
   "outputs":[
    
   ],
   "metadata":{
    "datalore":{
     "type":"CODE",
     "hide_input_from_viewers":false,
     "hide_output_from_viewers":false
    }
   }
  },
  {
   "cell_type":"code",
   "source":[
    "df_noneutral.shape"
   ],
   "execution_count":11,
   "outputs":[
    {
     "data":{
      "text\/plain":[
       "(32481, 10)"
      ]
     },
     "metadata":{
      
     },
     "output_type":"display_data"
    }
   ],
   "metadata":{
    "datalore":{
     "type":"CODE",
     "hide_input_from_viewers":false,
     "hide_output_from_viewers":false
    }
   }
  },
  {
   "cell_type":"code",
   "source":[
    "x=df_noneutral['result_home'].value_counts(normalize=True)\n",
    "x"
   ],
   "execution_count":12,
   "outputs":[
    {
     "data":{
      "text\/html":[
       
      ]
     },
     "metadata":{
      
     },
     "output_type":"display_data"
    }
   ],
   "metadata":{
    "datalore":{
     "type":"CODE",
     "hide_input_from_viewers":false,
     "hide_output_from_viewers":false
    }
   }
  },
  {
   "cell_type":"code",
   "source":[
    "df_noneutralegy=df_noneutral[df_noneutral['country']=='Egypt'] #probability that egypt wins in it land"
   ],
   "execution_count":13,
   "outputs":[
    
   ],
   "metadata":{
    "datalore":{
     "type":"CODE",
     "hide_input_from_viewers":false,
     "hide_output_from_viewers":false
    }
   }
  },
  {
   "cell_type":"code",
   "source":[
    "df_noneutralegyF=df_noneutralegy[df_noneutralegy['tournament']=='Friendly']\n",
    "df_noneutralegyF  #probability of Egypt Winning in their land in friendly tournament"
   ],
   "execution_count":14,
   "outputs":[
    {
     "data":{
      "text\/html":[
       "<div>\n",
       "<style scoped>\n",
       "    .dataframe tbody tr th:only-of-type {\n",
       "        vertical-align: middle;\n",
       "    }\n",
       "\n",
       "    .dataframe tbody tr th {\n",
       "        vertical-align: top;\n",
       "    }\n",
       "\n",
       "    .dataframe thead th {\n",
       "        text-align: right;\n",
       "    }\n",
       "<\/style>\n",
       "<table border=\"1\" class=\"dataframe\">\n",
       "  <thead>\n",
       "    <tr style=\"text-align: right;\">\n",
       "      <th><\/th>\n",
       "      <th>date<\/th>\n",
       "      <th>home_team<\/th>\n",
       "      <th>away_team<\/th>\n",
       "      <th>home_score<\/th>\n",
       "      <th>away_score<\/th>\n",
       "      <th>tournament<\/th>\n",
       "      <th>city<\/th>\n",
       "      <th>country<\/th>\n",
       "      <th>neutral<\/th>\n",
       "      <th>result_home<\/th>\n",
       "    <\/tr>\n",
       "  <\/thead>\n",
       "  <tbody>\n",
       "    <tr>\n",
       "      <th>1463<\/th>\n",
       "      <td>2\/19\/1932<\/td>\n",
       "      <td>Egypt<\/td>\n",
       "      <td>Hungary<\/td>\n",
       "      <td>0<\/td>\n",
       "      <td>0<\/td>\n",
       "      <td>Friendly<\/td>\n",
       "      <td>Cairo<\/td>\n",
       "      <td>Egypt<\/td>\n",
       "      <td>False<\/td>\n",
       "      <td>draw<\/td>\n",
       "    <\/tr>\n",
       "    <tr>\n",
       "      <th>1895<\/th>\n",
       "      <td>6\/19\/1936<\/td>\n",
       "      <td>Egypt<\/td>\n",
       "      <td>Greece<\/td>\n",
       "      <td>3<\/td>\n",
       "      <td>1<\/td>\n",
       "      <td>Friendly<\/td>\n",
       "      <td>Cairo<\/td>\n",
       "      <td>Egypt<\/td>\n",
       "      <td>False<\/td>\n",
       "      <td>win<\/td>\n",
       "    <\/tr>\n",
       "    <tr>\n",
       "      <th>2927<\/th>\n",
       "      <td>12\/24\/1948<\/td>\n",
       "      <td>Egypt<\/td>\n",
       "      <td>Norway<\/td>\n",
       "      <td>1<\/td>\n",
       "      <td>1<\/td>\n",
       "      <td>Friendly<\/td>\n",
       "      <td>Cairo<\/td>\n",
       "      <td>Egypt<\/td>\n",
       "      <td>False<\/td>\n",
       "      <td>draw<\/td>\n",
       "    <\/tr>\n",
       "    <tr>\n",
       "      <th>3080<\/th>\n",
       "      <td>2\/17\/1950<\/td>\n",
       "      <td>Egypt<\/td>\n",
       "      <td>Greece<\/td>\n",
       "      <td>2<\/td>\n",
       "      <td>0<\/td>\n",
       "      <td>Friendly<\/td>\n",
       "      <td>Cairo<\/td>\n",
       "      <td>Egypt<\/td>\n",
       "      <td>False<\/td>\n",
       "      <td>win<\/td>\n",
       "    <\/tr>\n",
       "    <tr>\n",
       "      <th>3425<\/th>\n",
       "      <td>1\/16\/1953<\/td>\n",
       "      <td>Egypt<\/td>\n",
       "      <td>Yugoslavia<\/td>\n",
       "      <td>1<\/td>\n",
       "      <td>3<\/td>\n",
       "      <td>Friendly<\/td>\n",
       "      <td>Cairo<\/td>\n",
       "      <td>Egypt<\/td>\n",
       "      <td>False<\/td>\n",
       "      <td>lose<\/td>\n",
       "    <\/tr>\n",
       "    <tr>\n",
       "      <th>...<\/th>\n",
       "      <td>...<\/td>\n",
       "      <td>...<\/td>\n",
       "      <td>...<\/td>\n",
       "      <td>...<\/td>\n",
       "      <td>...<\/td>\n",
       "      <td>...<\/td>\n",
       "      <td>...<\/td>\n",
       "      <td>...<\/td>\n",
       "      <td>...<\/td>\n",
       "      <td>...<\/td>\n",
       "    <\/tr>\n",
       "    <tr>\n",
       "      <th>40925<\/th>\n",
       "      <td>6\/13\/2019<\/td>\n",
       "      <td>Egypt<\/td>\n",
       "      <td>Tanzania<\/td>\n",
       "      <td>1<\/td>\n",
       "      <td>0<\/td>\n",
       "      <td>Friendly<\/td>\n",
       "      <td>Alexandria<\/td>\n",
       "      <td>Egypt<\/td>\n",
       "      <td>False<\/td>\n",
       "      <td>win<\/td>\n",
       "    <\/tr>\n",
       "    <tr>\n",
       "      <th>40947<\/th>\n",
       "      <td>6\/16\/2019<\/td>\n",
       "      <td>Egypt<\/td>\n",
       "      <td>Guinea<\/td>\n",
       "      <td>3<\/td>\n",
       "      <td>1<\/td>\n",
       "      <td>Friendly<\/td>\n",
       "      <td>Alexandria<\/td>\n",
       "      <td>Egypt<\/td>\n",
       "      <td>False<\/td>\n",
       "      <td>win<\/td>\n",
       "    <\/tr>\n",
       "    <tr>\n",
       "      <th>41450<\/th>\n",
       "      <td>10\/14\/2019<\/td>\n",
       "      <td>Egypt<\/td>\n",
       "      <td>Botswana<\/td>\n",
       "      <td>1<\/td>\n",
       "      <td>0<\/td>\n",
       "      <td>Friendly<\/td>\n",
       "      <td>Cairo<\/td>\n",
       "      <td>Egypt<\/td>\n",
       "      <td>False<\/td>\n",
       "      <td>win<\/td>\n",
       "    <\/tr>\n",
       "    <tr>\n",
       "      <th>41514<\/th>\n",
       "      <td>11\/7\/2019<\/td>\n",
       "      <td>Egypt<\/td>\n",
       "      <td>Liberia<\/td>\n",
       "      <td>1<\/td>\n",
       "      <td>0<\/td>\n",
       "      <td>Friendly<\/td>\n",
       "      <td>Alexandria<\/td>\n",
       "      <td>Egypt<\/td>\n",
       "      <td>False<\/td>\n",
       "      <td>win<\/td>\n",
       "    <\/tr>\n",
       "    <tr>\n",
       "      <th>42758<\/th>\n",
       "      <td>9\/30\/2021<\/td>\n",
       "      <td>Egypt<\/td>\n",
       "      <td>Liberia<\/td>\n",
       "      <td>2<\/td>\n",
       "      <td>0<\/td>\n",
       "      <td>Friendly<\/td>\n",
       "      <td>Alexandria<\/td>\n",
       "      <td>Egypt<\/td>\n",
       "      <td>False<\/td>\n",
       "      <td>win<\/td>\n",
       "    <\/tr>\n",
       "  <\/tbody>\n",
       "<\/table>\n",
       "<p>145 rows × 10 columns<\/p>\n",
       "<\/div>"
      ]
     },
     "metadata":{
      
     },
     "output_type":"display_data"
    }
   ],
   "metadata":{
    "datalore":{
     "type":"CODE",
     "hide_input_from_viewers":false,
     "hide_output_from_viewers":false
    }
   }
  },
  {
   "cell_type":"code",
   "source":[
    "x=df_noneutralegyF['result_home'].value_counts(normalize=True)\n",
    "x"
   ],
   "execution_count":15,
   "outputs":[
    {
     "data":{
      "text\/html":[
       
      ]
     },
     "metadata":{
      
     },
     "output_type":"display_data"
    }
   ],
   "metadata":{
    "datalore":{
     "type":"CODE",
     "hide_input_from_viewers":false,
     "hide_output_from_viewers":false
    }
   }
  },
  {
   "cell_type":"code",
   "source":[
    "\n",
    "import statsmodels.api as sm\n",
    "from statsmodels.stats.proportion import proportion_confint"
   ],
   "execution_count":16,
   "outputs":[
    
   ],
   "metadata":{
    "datalore":{
     "type":"CODE",
     "hide_input_from_viewers":false,
     "hide_output_from_viewers":false
    }
   }
  },
  {
   "cell_type":"code",
   "source":[
    "x=df_noneutralegyF['result_home'].value_counts()\n",
    "x=np.array(x)\n",
    "x"
   ],
   "execution_count":17,
   "outputs":[
    {
     "data":{
      "text\/html":[
       
      ]
     },
     "metadata":{
      
     },
     "output_type":"display_data"
    }
   ],
   "metadata":{
    "datalore":{
     "type":"CODE",
     "hide_input_from_viewers":false,
     "hide_output_from_viewers":false
    }
   }
  },
  {
   "cell_type":"code",
   "source":[
    "N=x.sum()"
   ],
   "execution_count":18,
   "outputs":[
    
   ],
   "metadata":{
    "datalore":{
     "type":"CODE",
     "hide_input_from_viewers":false,
     "hide_output_from_viewers":false
    }
   }
  },
  {
   "cell_type":"code",
   "source":[
    "CI_egy=proportion_confint(count=x[0], nobs=N, alpha=(1-.95))\n",
    "CI_egy"
   ],
   "execution_count":19,
   "outputs":[
    {
     "data":{
      "text\/plain":[
       "(0.47077769679111225, 0.6326705790709567)"
      ]
     },
     "metadata":{
      
     },
     "output_type":"display_data"
    }
   ],
   "metadata":{
    "datalore":{
     "type":"CODE",
     "hide_input_from_viewers":false,
     "hide_output_from_viewers":false
    }
   }
  },
  {
   "cell_type":"code",
   "source":[
    "df_noneutralgre=df_noneutral[df_noneutral['country']=='Greece']"
   ],
   "execution_count":20,
   "outputs":[
    
   ],
   "metadata":{
    "datalore":{
     "type":"CODE",
     "hide_input_from_viewers":false,
     "hide_output_from_viewers":false
    }
   }
  },
  {
   "cell_type":"code",
   "source":[
    "df_noneutralgreF=df_noneutralgre[df_noneutralgre['tournament']=='Friendly']"
   ],
   "execution_count":21,
   "outputs":[
    
   ],
   "metadata":{
    "datalore":{
     "type":"CODE",
     "hide_input_from_viewers":false,
     "hide_output_from_viewers":false
    }
   }
  },
  {
   "cell_type":"code",
   "source":[
    "df_noneutralgreF.shape"
   ],
   "execution_count":22,
   "outputs":[
    {
     "data":{
      "text\/plain":[
       "(126, 10)"
      ]
     },
     "metadata":{
      
     },
     "output_type":"display_data"
    }
   ],
   "metadata":{
    "datalore":{
     "type":"CODE",
     "hide_input_from_viewers":false,
     "hide_output_from_viewers":false
    }
   }
  },
  {
   "cell_type":"code",
   "source":[
    "df_noneutralgreF['result_home'].value_counts(normalize=True)"
   ],
   "execution_count":23,
   "outputs":[
    {
     "data":{
      "text\/html":[
       
      ]
     },
     "metadata":{
      
     },
     "output_type":"display_data"
    }
   ],
   "metadata":{
    "datalore":{
     "type":"CODE",
     "hide_input_from_viewers":false,
     "hide_output_from_viewers":false
    }
   }
  },
  {
   "cell_type":"code",
   "source":[
    "x=df_noneutralgreF['result_home'].value_counts()\n",
    "x=np.array(x)\n",
    "N=x.sum()\n",
    "CI_gre=proportion_confint(count=x[0], nobs=N, alpha=(1-.95))\n",
    "CI_gre"
   ],
   "execution_count":24,
   "outputs":[
    {
     "data":{
      "text\/plain":[
       "(0.3114005769651982, 0.4822502166855954)"
      ]
     },
     "metadata":{
      
     },
     "output_type":"display_data"
    }
   ],
   "metadata":{
    "datalore":{
     "type":"CODE",
     "hide_input_from_viewers":false,
     "hide_output_from_viewers":false
    }
   }
  },
  {
   "cell_type":"code",
   "source":[
    "df_noneutralwal=df_noneutral[df_noneutral['country']=='Wales']\n",
    "df_noneutralwalF=df_noneutralwal[df_noneutralwal['tournament']=='Friendly']\n",
    "df_noneutralwalF['result_home'].value_counts(normalize=True)"
   ],
   "execution_count":25,
   "outputs":[
    {
     "data":{
      "text\/html":[
       
      ]
     },
     "metadata":{
      
     },
     "output_type":"display_data"
    }
   ],
   "metadata":{
    "datalore":{
     "type":"CODE",
     "hide_input_from_viewers":false,
     "hide_output_from_viewers":false
    }
   }
  },
  {
   "cell_type":"code",
   "source":[
    "x=df_noneutralwalF['result_home'].value_counts()\n",
    "x=np.array(x)\n",
    "N=x.sum()\n",
    "CI_wal=proportion_confint(count=x[0], nobs=N, alpha=(1-.95))\n",
    "CI_wal"
   ],
   "execution_count":26,
   "outputs":[
    {
     "data":{
      "text\/plain":[
       "(0.2541364398001451, 0.478257926397038)"
      ]
     },
     "metadata":{
      
     },
     "output_type":"display_data"
    }
   ],
   "metadata":{
    "datalore":{
     "type":"CODE",
     "hide_input_from_viewers":false,
     "hide_output_from_viewers":false
    }
   }
  },
  {
   "cell_type":"code",
   "source":[
    "df_noneutralscot=df_noneutral[df_noneutral['country']=='Scotland']\n",
    "df_noneutralscotF=df_noneutralscot[df_noneutralscot['tournament']=='Friendly']\n",
    "df_noneutralscotF['result_home'].value_counts(normalize=True)"
   ],
   "execution_count":27,
   "outputs":[
    {
     "data":{
      "text\/html":[
       
      ]
     },
     "metadata":{
      
     },
     "output_type":"display_data"
    }
   ],
   "metadata":{
    "datalore":{
     "type":"CODE",
     "hide_input_from_viewers":false,
     "hide_output_from_viewers":false
    }
   }
  },
  {
   "cell_type":"code",
   "source":[
    "x=df_noneutralscotF['result_home'].value_counts()\n",
    "x=np.array(x)\n",
    "N=x.sum()\n",
    "CI_scot=proportion_confint(count=x[0], nobs=N, alpha=(1-.95))\n",
    "CI_scot"
   ],
   "execution_count":28,
   "outputs":[
    {
     "data":{
      "text\/plain":[
       "(0.4048157345543417, 0.5951842654456583)"
      ]
     },
     "metadata":{
      
     },
     "output_type":"display_data"
    }
   ],
   "metadata":{
    "datalore":{
     "type":"CODE",
     "hide_input_from_viewers":false,
     "hide_output_from_viewers":false
    }
   }
  },
  {
   "cell_type":"code",
   "source":[
    "import matplotlib.pyplot as plt"
   ],
   "execution_count":29,
   "outputs":[
    
   ],
   "metadata":{
    "datalore":{
     "type":"CODE",
     "hide_input_from_viewers":false,
     "hide_output_from_viewers":false
    }
   }
  },
  {
   "cell_type":"code",
   "source":[
    "ci_friendly = {}\n",
    "ci_friendly['country'] = ['Egypt','Greece','Wales', 'Scotland']\n",
    "ci_friendly['lb'] = [CI_egy[0],CI_gre[0],CI_wal[0], CI_scot[0]]\n",
    "ci_friendly['ub'] = [CI_egy[1],CI_gre[1],CI_wal[1], CI_scot[1]]\n",
    "df_ci= pd.DataFrame(ci_friendly)\n",
    "df_ci"
   ],
   "execution_count":30,
   "outputs":[
    {
     "data":{
      "text\/html":[
       "<div>\n",
       "<style scoped>\n",
       "    .dataframe tbody tr th:only-of-type {\n",
       "        vertical-align: middle;\n",
       "    }\n",
       "\n",
       "    .dataframe tbody tr th {\n",
       "        vertical-align: top;\n",
       "    }\n",
       "\n",
       "    .dataframe thead th {\n",
       "        text-align: right;\n",
       "    }\n",
       "<\/style>\n",
       "<table border=\"1\" class=\"dataframe\">\n",
       "  <thead>\n",
       "    <tr style=\"text-align: right;\">\n",
       "      <th><\/th>\n",
       "      <th>country<\/th>\n",
       "      <th>lb<\/th>\n",
       "      <th>ub<\/th>\n",
       "    <\/tr>\n",
       "  <\/thead>\n",
       "  <tbody>\n",
       "    <tr>\n",
       "      <th>0<\/th>\n",
       "      <td>Egypt<\/td>\n",
       "      <td>0.470778<\/td>\n",
       "      <td>0.632671<\/td>\n",
       "    <\/tr>\n",
       "    <tr>\n",
       "      <th>1<\/th>\n",
       "      <td>Greece<\/td>\n",
       "      <td>0.311401<\/td>\n",
       "      <td>0.482250<\/td>\n",
       "    <\/tr>\n",
       "    <tr>\n",
       "      <th>2<\/th>\n",
       "      <td>Wales<\/td>\n",
       "      <td>0.254136<\/td>\n",
       "      <td>0.478258<\/td>\n",
       "    <\/tr>\n",
       "    <tr>\n",
       "      <th>3<\/th>\n",
       "      <td>Scotland<\/td>\n",
       "      <td>0.404816<\/td>\n",
       "      <td>0.595184<\/td>\n",
       "    <\/tr>\n",
       "  <\/tbody>\n",
       "<\/table>\n",
       "<\/div>"
      ]
     },
     "metadata":{
      
     },
     "output_type":"display_data"
    }
   ],
   "metadata":{
    "datalore":{
     "type":"CODE",
     "hide_input_from_viewers":false,
     "hide_output_from_viewers":false
    }
   }
  },
  {
   "cell_type":"code",
   "source":[
    "for lb,ub,y in zip(df_ci['lb'],df_ci['ub'],range(len(df_ci))):\n",
    "\n",
    "    plt.plot((lb,ub),(y,y),'ro-')\n",
    "plt.yticks(range(len(df_ci)),list(df_ci['country'])) #a graph for the confidence interval of 4 different countries' winning chance in friendly tournament in home land"
   ],
   "execution_count":31,
   "outputs":[
    {
     "data":{
      "text\/plain":[
       "([<matplotlib.axis.YTick at 0x7feefc655e20>,\n",
       "  <matplotlib.axis.YTick at 0x7feefc655670>,\n",
       "  <matplotlib.axis.YTick at 0x7feefc911670>,\n",
       "  <matplotlib.axis.YTick at 0x7feefc627340>],\n",
       " [Text(0, 0, 'Egypt'),\n",
       "  Text(0, 1, 'Greece'),\n",
       "  Text(0, 2, 'Wales'),\n",
       "  Text(0, 3, 'Scotland')])"
      ],
      "image\/png":"[encoded data removed]"
     },
     "metadata":{
      "image\/png":{
       
      }
     },
     "output_type":"display_data"
    }
   ],
   "metadata":{
    "datalore":{
     "type":"CODE",
     "hide_input_from_viewers":false,
     "hide_output_from_viewers":false
    }
   }
  },
  {
   "cell_type":"markdown",
   "source":[
    "this can make us determine that Egypt has the higher chance of winning a friendly tournament done on their homeland among the 4 countries; as Egypt's team members are more used to play in national matches than internati0nal ones"
   ],
   "attachments":{
    
   },
   "metadata":{
    "datalore":{
     "type":"MD",
     "hide_input_from_viewers":false,
     "hide_output_from_viewers":false
    }
   }
  },
  {
   "cell_type":"markdown",
   "source":[
    "#### In this part, im going to analyze the following: the probability of losing of the same 3 European countries in comparison with Egypt, in a friendly tournament, playing as the away team. "
   ],
   "attachments":{
    
   },
   "metadata":{
    "datalore":{
     "type":"MD",
     "hide_input_from_viewers":false,
     "hide_output_from_viewers":false
    }
   }
  },
  {
   "cell_type":"code",
   "source":[
    "x=df['home_score']-df['away_score']\n",
    "conditions=[(x<0),(x>0), (x==0)]\n",
    "values=['win','lose','draw']\n",
    "df['result_away']=np.select(conditions,values)\n",
    "df"
   ],
   "execution_count":32,
   "outputs":[
    {
     "data":{
      "text\/html":[
       "<div>\n",
       "<style scoped>\n",
       "    .dataframe tbody tr th:only-of-type {\n",
       "        vertical-align: middle;\n",
       "    }\n",
       "\n",
       "    .dataframe tbody tr th {\n",
       "        vertical-align: top;\n",
       "    }\n",
       "\n",
       "    .dataframe thead th {\n",
       "        text-align: right;\n",
       "    }\n",
       "<\/style>\n",
       "<table border=\"1\" class=\"dataframe\">\n",
       "  <thead>\n",
       "    <tr style=\"text-align: right;\">\n",
       "      <th><\/th>\n",
       "      <th>date<\/th>\n",
       "      <th>home_team<\/th>\n",
       "      <th>away_team<\/th>\n",
       "      <th>home_score<\/th>\n",
       "      <th>away_score<\/th>\n",
       "      <th>tournament<\/th>\n",
       "      <th>city<\/th>\n",
       "      <th>country<\/th>\n",
       "      <th>neutral<\/th>\n",
       "      <th>result_home<\/th>\n",
       "      <th>result_away<\/th>\n",
       "    <\/tr>\n",
       "  <\/thead>\n",
       "  <tbody>\n",
       "    <tr>\n",
       "      <th>0<\/th>\n",
       "      <td>1872-11-30<\/td>\n",
       "      <td>Scotland<\/td>\n",
       "      <td>England<\/td>\n",
       "      <td>0<\/td>\n",
       "      <td>0<\/td>\n",
       "      <td>Friendly<\/td>\n",
       "      <td>Glasgow<\/td>\n",
       "      <td>Scotland<\/td>\n",
       "      <td>False<\/td>\n",
       "      <td>draw<\/td>\n",
       "      <td>draw<\/td>\n",
       "    <\/tr>\n",
       "    <tr>\n",
       "      <th>1<\/th>\n",
       "      <td>1873-03-08<\/td>\n",
       "      <td>England<\/td>\n",
       "      <td>Scotland<\/td>\n",
       "      <td>4<\/td>\n",
       "      <td>2<\/td>\n",
       "      <td>Friendly<\/td>\n",
       "      <td>London<\/td>\n",
       "      <td>England<\/td>\n",
       "      <td>False<\/td>\n",
       "      <td>win<\/td>\n",
       "      <td>lose<\/td>\n",
       "    <\/tr>\n",
       "    <tr>\n",
       "      <th>2<\/th>\n",
       "      <td>1874-03-07<\/td>\n",
       "      <td>Scotland<\/td>\n",
       "      <td>England<\/td>\n",
       "      <td>2<\/td>\n",
       "      <td>1<\/td>\n",
       "      <td>Friendly<\/td>\n",
       "      <td>Glasgow<\/td>\n",
       "      <td>Scotland<\/td>\n",
       "      <td>False<\/td>\n",
       "      <td>win<\/td>\n",
       "      <td>lose<\/td>\n",
       "    <\/tr>\n",
       "    <tr>\n",
       "      <th>3<\/th>\n",
       "      <td>1875-03-06<\/td>\n",
       "      <td>England<\/td>\n",
       "      <td>Scotland<\/td>\n",
       "      <td>2<\/td>\n",
       "      <td>2<\/td>\n",
       "      <td>Friendly<\/td>\n",
       "      <td>London<\/td>\n",
       "      <td>England<\/td>\n",
       "      <td>False<\/td>\n",
       "      <td>draw<\/td>\n",
       "      <td>draw<\/td>\n",
       "    <\/tr>\n",
       "    <tr>\n",
       "      <th>4<\/th>\n",
       "      <td>1876-03-04<\/td>\n",
       "      <td>Scotland<\/td>\n",
       "      <td>England<\/td>\n",
       "      <td>3<\/td>\n",
       "      <td>0<\/td>\n",
       "      <td>Friendly<\/td>\n",
       "      <td>Glasgow<\/td>\n",
       "      <td>Scotland<\/td>\n",
       "      <td>False<\/td>\n",
       "      <td>win<\/td>\n",
       "      <td>lose<\/td>\n",
       "    <\/tr>\n",
       "    <tr>\n",
       "      <th>...<\/th>\n",
       "      <td>...<\/td>\n",
       "      <td>...<\/td>\n",
       "      <td>...<\/td>\n",
       "      <td>...<\/td>\n",
       "      <td>...<\/td>\n",
       "      <td>...<\/td>\n",
       "      <td>...<\/td>\n",
       "      <td>...<\/td>\n",
       "      <td>...<\/td>\n",
       "      <td>...<\/td>\n",
       "      <td>...<\/td>\n",
       "    <\/tr>\n",
       "    <tr>\n",
       "      <th>43183<\/th>\n",
       "      <td>2\/1\/2022<\/td>\n",
       "      <td>Suriname<\/td>\n",
       "      <td>Guyana<\/td>\n",
       "      <td>2<\/td>\n",
       "      <td>1<\/td>\n",
       "      <td>Friendly<\/td>\n",
       "      <td>Paramaribo<\/td>\n",
       "      <td>Suriname<\/td>\n",
       "      <td>False<\/td>\n",
       "      <td>win<\/td>\n",
       "      <td>lose<\/td>\n",
       "    <\/tr>\n",
       "    <tr>\n",
       "      <th>43184<\/th>\n",
       "      <td>2\/2\/2022<\/td>\n",
       "      <td>Burkina Faso<\/td>\n",
       "      <td>Senegal<\/td>\n",
       "      <td>1<\/td>\n",
       "      <td>3<\/td>\n",
       "      <td>African Cup of Nations<\/td>\n",
       "      <td>YaoundÃ©<\/td>\n",
       "      <td>Cameroon<\/td>\n",
       "      <td>True<\/td>\n",
       "      <td>lose<\/td>\n",
       "      <td>win<\/td>\n",
       "    <\/tr>\n",
       "    <tr>\n",
       "      <th>43185<\/th>\n",
       "      <td>2\/3\/2022<\/td>\n",
       "      <td>Cameroon<\/td>\n",
       "      <td>Egypt<\/td>\n",
       "      <td>0<\/td>\n",
       "      <td>0<\/td>\n",
       "      <td>African Cup of Nations<\/td>\n",
       "      <td>YaoundÃ©<\/td>\n",
       "      <td>Cameroon<\/td>\n",
       "      <td>False<\/td>\n",
       "      <td>draw<\/td>\n",
       "      <td>draw<\/td>\n",
       "    <\/tr>\n",
       "    <tr>\n",
       "      <th>43186<\/th>\n",
       "      <td>2\/5\/2022<\/td>\n",
       "      <td>Cameroon<\/td>\n",
       "      <td>Burkina Faso<\/td>\n",
       "      <td>3<\/td>\n",
       "      <td>3<\/td>\n",
       "      <td>African Cup of Nations<\/td>\n",
       "      <td>YaoundÃ©<\/td>\n",
       "      <td>Cameroon<\/td>\n",
       "      <td>False<\/td>\n",
       "      <td>draw<\/td>\n",
       "      <td>draw<\/td>\n",
       "    <\/tr>\n",
       "    <tr>\n",
       "      <th>43187<\/th>\n",
       "      <td>2\/6\/2022<\/td>\n",
       "      <td>Senegal<\/td>\n",
       "      <td>Egypt<\/td>\n",
       "      <td>0<\/td>\n",
       "      <td>0<\/td>\n",
       "      <td>African Cup of Nations<\/td>\n",
       "      <td>YaoundÃ©<\/td>\n",
       "      <td>Cameroon<\/td>\n",
       "      <td>True<\/td>\n",
       "      <td>draw<\/td>\n",
       "      <td>draw<\/td>\n",
       "    <\/tr>\n",
       "  <\/tbody>\n",
       "<\/table>\n",
       "<p>43188 rows × 11 columns<\/p>\n",
       "<\/div>"
      ]
     },
     "metadata":{
      
     },
     "output_type":"display_data"
    }
   ],
   "metadata":{
    "datalore":{
     "type":"CODE",
     "hide_input_from_viewers":false,
     "hide_output_from_viewers":false
    }
   }
  },
  {
   "cell_type":"code",
   "source":[
    "df_noneutral=df[df['neutral']==False]"
   ],
   "execution_count":33,
   "outputs":[
    
   ],
   "metadata":{
    "datalore":{
     "type":"CODE",
     "hide_input_from_viewers":false,
     "hide_output_from_viewers":false
    }
   }
  },
  {
   "cell_type":"code",
   "source":[
    "df_noneutralegy=df_noneutral[df_noneutral['away_team']=='Egypt']\n",
    "df_noneutralegyF=df_noneutralegy[df_noneutralegy['tournament']=='Friendly']\n",
    "x=df_noneutralegyF['result_away'].value_counts()\n",
    "x=np.array(x)\n",
    "x\n",
    "N=x.sum()\n",
    "CI_egy=proportion_confint(count=x[1], nobs=N, alpha=(1-.95))\n",
    "CI_egy"
   ],
   "execution_count":34,
   "outputs":[
    {
     "data":{
      "text\/plain":[
       "(0.24715478691048412, 0.43284521308951596)"
      ]
     },
     "metadata":{
      
     },
     "output_type":"display_data"
    }
   ],
   "metadata":{
    "datalore":{
     "type":"CODE",
     "hide_input_from_viewers":false,
     "hide_output_from_viewers":false
    }
   }
  },
  {
   "cell_type":"code",
   "source":[
    "df_noneutralgre=df_noneutral[df_noneutral['away_team']=='Greece']\n",
    "df_noneutralgreF=df_noneutralgre[df_noneutralgre['tournament']=='Friendly']\n",
    "x=df_noneutralgreF['result_away'].value_counts()\n",
    "x=np.array(x)\n",
    "x\n",
    "N=x.sum()\n",
    "CI_gre=proportion_confint(count=x[1], nobs=N, alpha=(1-.95))\n",
    "CI_gre"
   ],
   "execution_count":35,
   "outputs":[
    {
     "data":{
      "text\/plain":[
       "(0.22828832246685596, 0.39779863405488325)"
      ]
     },
     "metadata":{
      
     },
     "output_type":"display_data"
    }
   ],
   "metadata":{
    "datalore":{
     "type":"CODE",
     "hide_input_from_viewers":false,
     "hide_output_from_viewers":false
    }
   }
  },
  {
   "cell_type":"code",
   "source":[
    "df_noneutralwal=df_noneutral[df_noneutral['away_team']=='Wales']\n",
    "df_noneutralwalF=df_noneutralwal[df_noneutralwal['tournament']=='Friendly']\n",
    "x=df_noneutralwalF['result_away'].value_counts()\n",
    "x=np.array(x)\n",
    "x\n",
    "N=x.sum()\n",
    "CI_wal=proportion_confint(count=x[1], nobs=N, alpha=(1-.95))\n",
    "CI_wal"
   ],
   "execution_count":36,
   "outputs":[
    {
     "data":{
      "text\/plain":[
       "(0.18082080408154663, 0.37339606338833287)"
      ]
     },
     "metadata":{
      
     },
     "output_type":"display_data"
    }
   ],
   "metadata":{
    "datalore":{
     "type":"CODE",
     "hide_input_from_viewers":false,
     "hide_output_from_viewers":false
    }
   }
  },
  {
   "cell_type":"code",
   "source":[
    "df_noneutralscot=df_noneutral[df_noneutral['away_team']=='Scotland']\n",
    "df_noneutralscotF=df_noneutralscot[df_noneutralscot['tournament']=='Friendly']\n",
    "x=df_noneutralscotF['result_away'].value_counts()\n",
    "x=np.array(x)\n",
    "x\n",
    "N=x.sum()\n",
    "CI_scot=proportion_confint(count=x[1], nobs=N, alpha=(1-.95))\n",
    "CI_scot"
   ],
   "execution_count":37,
   "outputs":[
    {
     "data":{
      "text\/plain":[
       "(0.2936725636434827, 0.466658014868914)"
      ]
     },
     "metadata":{
      
     },
     "output_type":"display_data"
    }
   ],
   "metadata":{
    "datalore":{
     "type":"CODE",
     "hide_input_from_viewers":false,
     "hide_output_from_viewers":false
    }
   }
  },
  {
   "cell_type":"code",
   "source":[
    "ci_friendlyL = {}\n",
    "ci_friendlyL['country'] = ['Egypt','Greece','Wales', 'Scotland']\n",
    "ci_friendlyL['lb'] = [CI_egy[0],CI_gre[0],CI_wal[0], CI_scot[0]]\n",
    "ci_friendlyL['ub'] = [CI_egy[1],CI_gre[1],CI_wal[1], CI_scot[1]]\n",
    "df_ci= pd.DataFrame(ci_friendlyL)\n",
    "df_ci"
   ],
   "execution_count":38,
   "outputs":[
    {
     "data":{
      "text\/html":[
       "<div>\n",
       "<style scoped>\n",
       "    .dataframe tbody tr th:only-of-type {\n",
       "        vertical-align: middle;\n",
       "    }\n",
       "\n",
       "    .dataframe tbody tr th {\n",
       "        vertical-align: top;\n",
       "    }\n",
       "\n",
       "    .dataframe thead th {\n",
       "        text-align: right;\n",
       "    }\n",
       "<\/style>\n",
       "<table border=\"1\" class=\"dataframe\">\n",
       "  <thead>\n",
       "    <tr style=\"text-align: right;\">\n",
       "      <th><\/th>\n",
       "      <th>country<\/th>\n",
       "      <th>lb<\/th>\n",
       "      <th>ub<\/th>\n",
       "    <\/tr>\n",
       "  <\/thead>\n",
       "  <tbody>\n",
       "    <tr>\n",
       "      <th>0<\/th>\n",
       "      <td>Egypt<\/td>\n",
       "      <td>0.247155<\/td>\n",
       "      <td>0.432845<\/td>\n",
       "    <\/tr>\n",
       "    <tr>\n",
       "      <th>1<\/th>\n",
       "      <td>Greece<\/td>\n",
       "      <td>0.228288<\/td>\n",
       "      <td>0.397799<\/td>\n",
       "    <\/tr>\n",
       "    <tr>\n",
       "      <th>2<\/th>\n",
       "      <td>Wales<\/td>\n",
       "      <td>0.180821<\/td>\n",
       "      <td>0.373396<\/td>\n",
       "    <\/tr>\n",
       "    <tr>\n",
       "      <th>3<\/th>\n",
       "      <td>Scotland<\/td>\n",
       "      <td>0.293673<\/td>\n",
       "      <td>0.466658<\/td>\n",
       "    <\/tr>\n",
       "  <\/tbody>\n",
       "<\/table>\n",
       "<\/div>"
      ]
     },
     "metadata":{
      
     },
     "output_type":"display_data"
    }
   ],
   "metadata":{
    "datalore":{
     "type":"CODE",
     "hide_input_from_viewers":false,
     "hide_output_from_viewers":false
    }
   }
  },
  {
   "cell_type":"code",
   "source":[
    "for lb,ub,y in zip(df_ci['lb'],df_ci['ub'],range(len(df_ci))):\n",
    "\n",
    "    plt.plot((lb,ub),(y,y),'ro-')\n",
    "plt.yticks(range(len(df_ci)),list(df_ci['country']))"
   ],
   "execution_count":39,
   "outputs":[
    {
     "data":{
      "text\/plain":[
       "([<matplotlib.axis.YTick at 0x7feefc627700>,\n",
       "  <matplotlib.axis.YTick at 0x7feefc299610>,\n",
       "  <matplotlib.axis.YTick at 0x7feefc2997f0>,\n",
       "  <matplotlib.axis.YTick at 0x7fef06e07340>],\n",
       " [Text(0, 0, 'Egypt'),\n",
       "  Text(0, 1, 'Greece'),\n",
       "  Text(0, 2, 'Wales'),\n",
       "  Text(0, 3, 'Scotland')])"
      ],
      "image\/png":"[encoded data removed]"
     },
     "metadata":{
      "image\/png":{
       
      }
     },
     "output_type":"display_data"
    }
   ],
   "metadata":{
    "datalore":{
     "type":"CODE",
     "hide_input_from_viewers":false,
     "hide_output_from_viewers":false
    }
   }
  },
  {
   "cell_type":"markdown",
   "source":[
    "This shows that scotland has the higher probability of losing in a friendly tournament away from their home. this is due to the fact that scotland doesnt have a strong soccer team. it can be shown in how they have never progressed beyond the first group stage of a finals tournament."
   ],
   "attachments":{
    
   },
   "metadata":{
    "datalore":{
     "type":"MD",
     "hide_input_from_viewers":false,
     "hide_output_from_viewers":false
    }
   }
  },
  {
   "cell_type":"markdown",
   "source":[
    "#### In this part, im going to analyze the following: the probability that Egypt wins in 3 different tournaments (Friendly, FIFA world cup, and African cup of nations) as the away team"
   ],
   "attachments":{
    
   },
   "metadata":{
    "datalore":{
     "type":"MD",
     "hide_input_from_viewers":false,
     "hide_output_from_viewers":false
    }
   }
  },
  {
   "cell_type":"code",
   "source":[
    "y=list(df['tournament'].value_counts().index)\n",
    "y"
   ],
   "execution_count":40,
   "outputs":[
    {
     "data":{
      "text\/plain":[
       "['Friendly',\n",
       " 'FIFA World Cup qualification',\n",
       " 'UEFA Euro qualification',\n",
       " 'African Cup of Nations qualification',\n",
       " 'FIFA World Cup',\n",
       " 'Copa AmÃ©rica',\n",
       " 'African Cup of Nations',\n",
       " 'AFC Asian Cup qualification',\n",
       " 'CECAFA Cup',\n",
       " 'CFU Caribbean Cup qualification',\n",
       " 'Merdeka Tournament',\n",
       " 'British Championship',\n",
       " 'Gulf Cup',\n",
       " 'AFC Asian Cup',\n",
       " 'Gold Cup',\n",
       " 'Island Games',\n",
       " 'UEFA Euro',\n",
       " 'COSAFA Cup',\n",
       " 'UEFA Nations League',\n",
       " 'AFF Championship',\n",
       " 'Nordic Championship',\n",
       " 'African Nations Championship',\n",
       " 'CFU Caribbean Cup',\n",
       " 'AmÃ\\xadlcar Cabral Cup',\n",
       " \"King's Cup\",\n",
       " 'South Pacific Games',\n",
       " 'UNCAF Cup',\n",
       " 'Korea Cup',\n",
       " 'SAFF Cup',\n",
       " 'Arab Cup',\n",
       " 'Confederations Cup',\n",
       " 'International Cup',\n",
       " 'CCCF Championship',\n",
       " 'EAFF Championship',\n",
       " 'CONCACAF Nations League',\n",
       " 'Windward Islands Tournament',\n",
       " 'CONIFA World Football Cup',\n",
       " 'Oceania Nations Cup',\n",
       " 'AFC Challenge Cup',\n",
       " 'WAFF Championship',\n",
       " 'Baltic Cup',\n",
       " 'AFC Challenge Cup qualification',\n",
       " 'Nehru Cup',\n",
       " 'Balkan Cup',\n",
       " 'Indonesia Tournament',\n",
       " 'Oceania Nations Cup qualification',\n",
       " 'Cyprus International Tournament',\n",
       " 'Kirin Cup',\n",
       " 'CONCACAF Nations League qualification',\n",
       " 'Gold Cup qualification',\n",
       " 'UDEAC Cup',\n",
       " 'African Nations Championship qualification',\n",
       " 'Vietnam Independence Cup',\n",
       " 'Palestine Cup',\n",
       " 'Viva World Cup',\n",
       " 'West African Cup',\n",
       " 'Malta International Tournament',\n",
       " 'Pacific Games',\n",
       " 'CONIFA European Football Cup',\n",
       " 'CONCACAF Championship',\n",
       " 'Pan American Championship',\n",
       " 'Brazil Independence Cup',\n",
       " 'USA Cup',\n",
       " 'United Arab Emirates Friendship Tournament',\n",
       " 'Copa Chevallier Boutell',\n",
       " 'Dynasty Cup',\n",
       " 'Copa Lipton',\n",
       " 'COSAFA Cup qualification',\n",
       " 'Copa Newton',\n",
       " 'Lunar New Year Cup',\n",
       " 'Merlion Cup',\n",
       " 'Arab Cup qualification',\n",
       " 'Copa Paz del Chaco',\n",
       " 'Copa Roca',\n",
       " \"Prime Minister's Cup\",\n",
       " 'CONCACAF Championship qualification',\n",
       " 'ABCS Tournament',\n",
       " 'Inter Games Football Tournament',\n",
       " 'Copa del PacÃ\\xadfico',\n",
       " 'Copa Rio Branco',\n",
       " 'Simba Tournament',\n",
       " 'Copa Carlos Dittborn',\n",
       " 'Copa Juan Pinto DurÃ¡n',\n",
       " 'Copa Oswaldo Cruz',\n",
       " 'ELF Cup',\n",
       " 'UNIFFAC Cup',\n",
       " 'Millennium Cup',\n",
       " 'Copa Premio Honor Uruguayo',\n",
       " 'Dunhill Cup',\n",
       " 'GaNEFo',\n",
       " 'Nile Basin Tournament',\n",
       " 'Intercontinental Cup',\n",
       " 'Copa Artigas',\n",
       " 'Jordan International Tournament',\n",
       " 'King Hassan II Tournament',\n",
       " 'Copa Premio Honor Argentino',\n",
       " 'SKN Football Festival',\n",
       " 'Rous Cup',\n",
       " 'Atlantic Cup',\n",
       " 'FIFI Wild Cup',\n",
       " \"Copa Bernardo O'Higgins\",\n",
       " 'Tournoi de France',\n",
       " 'Bolivarian Games',\n",
       " 'Beijing International Friendship Tournament',\n",
       " 'VFF Cup',\n",
       " 'Mahinda Rajapaksa Cup',\n",
       " 'Mundialito',\n",
       " 'NAFU Championship',\n",
       " 'Nations Cup',\n",
       " 'Copa RamÃ³n Castilla',\n",
       " 'Copa FÃ©lix Bogado',\n",
       " 'World Unity Cup',\n",
       " 'Guangzhou International Friendship Tournament',\n",
       " 'Afro-Asian Games',\n",
       " 'Dragon Cup',\n",
       " 'Matthews Cup',\n",
       " 'Dakar Tournament',\n",
       " 'OSN Cup',\n",
       " 'Great Wall Cup',\n",
       " 'Three Nations Cup',\n",
       " 'Copa AmÃ©rica qualification',\n",
       " 'AFF Championship qualification',\n",
       " 'Atlantic Heritage Cup',\n",
       " 'Cup of Ancient Civilizations',\n",
       " 'FIFA 75th Anniversary Cup',\n",
       " 'TIFOCO Tournament']"
      ]
     },
     "metadata":{
      
     },
     "output_type":"display_data"
    }
   ],
   "metadata":{
    "datalore":{
     "type":"CODE",
     "hide_input_from_viewers":false,
     "hide_output_from_viewers":false
    }
   }
  },
  {
   "cell_type":"code",
   "source":[
    "df_noneutralegy=df_noneutral[df_noneutral['away_team']=='Egypt']\n",
    "df_noneutralegyF=df_noneutralegy[df_noneutralegy['tournament']=='Friendly']\n",
    "x=df_noneutralegyF['result_away'].value_counts()\n",
    "x=np.array(x)\n",
    "x\n",
    "N=x.sum()\n",
    "CI_egyF=proportion_confint(count=x[0], nobs=N, alpha=(1-.95))\n",
    "CI_egyF"
   ],
   "execution_count":41,
   "outputs":[
    {
     "data":{
      "text\/plain":[
       "(0.28486600512143223, 0.4751339948785678)"
      ]
     },
     "metadata":{
      
     },
     "output_type":"display_data"
    }
   ],
   "metadata":{
    "datalore":{
     "type":"CODE",
     "hide_input_from_viewers":false,
     "hide_output_from_viewers":false
    }
   }
  },
  {
   "cell_type":"code",
   "source":[
    "df_noneutralegy=df_noneutral[df_noneutral['away_team']=='Egypt']\n",
    "df_noneutralegyF=df_noneutralegy[df_noneutralegy['tournament']=='FIFA World Cup qualification']\n",
    "x=df_noneutralegyF['result_away'].value_counts()\n",
    "x=np.array(x)\n",
    "x\n",
    "N=x.sum()\n",
    "CI_egyFIFA=proportion_confint(count=x[0], nobs=N, alpha=(1-.95))\n",
    "CI_egyFIFA"
   ],
   "execution_count":42,
   "outputs":[
    {
     "data":{
      "text\/plain":[
       "(0.24249192186541954, 0.5302353508618531)"
      ]
     },
     "metadata":{
      
     },
     "output_type":"display_data"
    }
   ],
   "metadata":{
    "datalore":{
     "type":"CODE",
     "hide_input_from_viewers":false,
     "hide_output_from_viewers":false
    }
   }
  },
  {
   "cell_type":"code",
   "source":[
    "df_noneutralegy=df_noneutral[df_noneutral['away_team']=='Egypt']\n",
    "df_noneutralegyF=df_noneutralegy[df_noneutralegy['tournament']=='African Cup of Nations qualification']\n",
    "x=df_noneutralegyF['result_away'].value_counts()\n",
    "x=np.array(x)\n",
    "x\n",
    "N=x.sum()\n",
    "CI_egyAFRI=proportion_confint(count=x[0], nobs=N, alpha=(1-.95))\n",
    "CI_egyAFRI"
   ],
   "execution_count":43,
   "outputs":[
    {
     "data":{
      "text\/plain":[
       "(0.3149304774470007, 0.6324379436056309)"
      ]
     },
     "metadata":{
      
     },
     "output_type":"display_data"
    }
   ],
   "metadata":{
    "datalore":{
     "type":"CODE",
     "hide_input_from_viewers":false,
     "hide_output_from_viewers":false
    }
   }
  },
  {
   "cell_type":"code",
   "source":[
    "ci_tour = {}\n",
    "ci_tour['tournament'] = ['Friendly','FIFA World Cup qualification','African Cup of Nations qualification']\n",
    "ci_tour['lb'] = [CI_egyF[0],CI_egyFIFA[0],CI_egyAFRI[0]]\n",
    "ci_tour['ub'] = [CI_egyF[1],CI_egyFIFA[1],CI_egyAFRI[1]]\n",
    "df_ci= pd.DataFrame(ci_tour)\n",
    "df_ci"
   ],
   "execution_count":44,
   "outputs":[
    {
     "data":{
      "text\/html":[
       "<div>\n",
       "<style scoped>\n",
       "    .dataframe tbody tr th:only-of-type {\n",
       "        vertical-align: middle;\n",
       "    }\n",
       "\n",
       "    .dataframe tbody tr th {\n",
       "        vertical-align: top;\n",
       "    }\n",
       "\n",
       "    .dataframe thead th {\n",
       "        text-align: right;\n",
       "    }\n",
       "<\/style>\n",
       "<table border=\"1\" class=\"dataframe\">\n",
       "  <thead>\n",
       "    <tr style=\"text-align: right;\">\n",
       "      <th><\/th>\n",
       "      <th>tournament<\/th>\n",
       "      <th>lb<\/th>\n",
       "      <th>ub<\/th>\n",
       "    <\/tr>\n",
       "  <\/thead>\n",
       "  <tbody>\n",
       "    <tr>\n",
       "      <th>0<\/th>\n",
       "      <td>Friendly<\/td>\n",
       "      <td>0.284866<\/td>\n",
       "      <td>0.475134<\/td>\n",
       "    <\/tr>\n",
       "    <tr>\n",
       "      <th>1<\/th>\n",
       "      <td>FIFA World Cup qualification<\/td>\n",
       "      <td>0.242492<\/td>\n",
       "      <td>0.530235<\/td>\n",
       "    <\/tr>\n",
       "    <tr>\n",
       "      <th>2<\/th>\n",
       "      <td>African Cup of Nations qualification<\/td>\n",
       "      <td>0.314930<\/td>\n",
       "      <td>0.632438<\/td>\n",
       "    <\/tr>\n",
       "  <\/tbody>\n",
       "<\/table>\n",
       "<\/div>"
      ]
     },
     "metadata":{
      
     },
     "output_type":"display_data"
    }
   ],
   "metadata":{
    "datalore":{
     "type":"CODE",
     "hide_input_from_viewers":false,
     "hide_output_from_viewers":false
    }
   }
  },
  {
   "cell_type":"code",
   "source":[
    "for lb,ub,y in zip(df_ci['lb'],df_ci['ub'],range(len(df_ci))):\n",
    "\n",
    "    plt.plot((lb,ub),(y,y),'ro-')\n",
    "plt.yticks(range(len(df_ci)),list(df_ci['tournament']))"
   ],
   "execution_count":45,
   "outputs":[
    {
     "data":{
      "text\/plain":[
       "([<matplotlib.axis.YTick at 0x7fef06dc5c10>,\n",
       "  <matplotlib.axis.YTick at 0x7fef06dc5490>,\n",
       "  <matplotlib.axis.YTick at 0x7fef06dbc3d0>],\n",
       " [Text(0, 0, 'Friendly'),\n",
       "  Text(0, 1, 'FIFA World Cup qualification'),\n",
       "  Text(0, 2, 'African Cup of Nations qualification')])"
      ],
      "image\/png":"[encoded data removed]"
     },
     "metadata":{
      "image\/png":{
       
      }
     },
     "output_type":"display_data"
    }
   ],
   "metadata":{
    "datalore":{
     "type":"CODE",
     "hide_input_from_viewers":false,
     "hide_output_from_viewers":false
    }
   }
  },
  {
   "cell_type":"markdown",
   "source":[
    "the graph shows that Egypt has a higher chance in winning in African Cup of Nations qualification as the away team rather than the other two tournaments. this is because Egypt often doesnt qualify for the FIFA world cup, and when it does, it often faces strong opponents which lead to the team losing. also, it would make sense for Egypt to have a higher probability of winning the African Cup of Nations than friendly matches just for the incentive that they would be named the best in the region."
   ],
   "attachments":{
    
   },
   "metadata":{
    "datalore":{
     "type":"MD",
     "hide_input_from_viewers":false,
     "hide_output_from_viewers":false
    }
   }
  },
  {
   "cell_type":"markdown",
   "source":[
    "## **Part II:**"
   ],
   "attachments":{
    
   },
   "metadata":{
    "datalore":{
     "type":"MD",
     "hide_input_from_viewers":false,
     "hide_output_from_viewers":false
    }
   }
  },
  {
   "cell_type":"markdown",
   "source":[
    "### Statistical analysis of Coronavirus Pandemic (COVID 29) over 267 countries"
   ],
   "attachments":{
    
   },
   "metadata":{
    "datalore":{
     "type":"MD",
     "hide_input_from_viewers":false,
     "hide_output_from_viewers":false
    }
   }
  },
  {
   "cell_type":"markdown",
   "source":[
    "#### In this part, im going to analyze the following: the probability of cases for each day of the week"
   ],
   "attachments":{
    
   },
   "metadata":{
    "datalore":{
     "type":"MD",
     "hide_input_from_viewers":false,
     "hide_output_from_viewers":false
    }
   }
  },
  {
   "cell_type":"code",
   "source":[
    "df= pd.read_csv('covid_data.csv' , encoding='latin-1')\n",
    "df"
   ],
   "execution_count":46,
   "outputs":[
    {
     "data":{
      "text\/html":[
       "<div>\n",
       "<style scoped>\n",
       "    .dataframe tbody tr th:only-of-type {\n",
       "        vertical-align: middle;\n",
       "    }\n",
       "\n",
       "    .dataframe tbody tr th {\n",
       "        vertical-align: top;\n",
       "    }\n",
       "\n",
       "    .dataframe thead th {\n",
       "        text-align: right;\n",
       "    }\n",
       "<\/style>\n",
       "<table border=\"1\" class=\"dataframe\">\n",
       "  <thead>\n",
       "    <tr style=\"text-align: right;\">\n",
       "      <th><\/th>\n",
       "      <th>date<\/th>\n",
       "      <th>iso3c<\/th>\n",
       "      <th>country<\/th>\n",
       "      <th>income<\/th>\n",
       "      <th>region<\/th>\n",
       "      <th>continent<\/th>\n",
       "      <th>dcases<\/th>\n",
       "      <th>ddeaths<\/th>\n",
       "      <th>population<\/th>\n",
       "      <th>weekdays<\/th>\n",
       "      <th>month<\/th>\n",
       "    <\/tr>\n",
       "  <\/thead>\n",
       "  <tbody>\n",
       "    <tr>\n",
       "      <th>0<\/th>\n",
       "      <td>2020-02-24<\/td>\n",
       "      <td>AFG<\/td>\n",
       "      <td>Afghanistan<\/td>\n",
       "      <td>Low income<\/td>\n",
       "      <td>South Asia<\/td>\n",
       "      <td>Asia<\/td>\n",
       "      <td>5<\/td>\n",
       "      <td>0<\/td>\n",
       "      <td>38041754<\/td>\n",
       "      <td>Mon<\/td>\n",
       "      <td>Feb<\/td>\n",
       "    <\/tr>\n",
       "    <tr>\n",
       "      <th>1<\/th>\n",
       "      <td>2020-02-25<\/td>\n",
       "      <td>AFG<\/td>\n",
       "      <td>Afghanistan<\/td>\n",
       "      <td>Low income<\/td>\n",
       "      <td>South Asia<\/td>\n",
       "      <td>Asia<\/td>\n",
       "      <td>0<\/td>\n",
       "      <td>0<\/td>\n",
       "      <td>38041754<\/td>\n",
       "      <td>Tue<\/td>\n",
       "      <td>Feb<\/td>\n",
       "    <\/tr>\n",
       "    <tr>\n",
       "      <th>2<\/th>\n",
       "      <td>2020-02-26<\/td>\n",
       "      <td>AFG<\/td>\n",
       "      <td>Afghanistan<\/td>\n",
       "      <td>Low income<\/td>\n",
       "      <td>South Asia<\/td>\n",
       "      <td>Asia<\/td>\n",
       "      <td>0<\/td>\n",
       "      <td>0<\/td>\n",
       "      <td>38041754<\/td>\n",
       "      <td>Wed<\/td>\n",
       "      <td>Feb<\/td>\n",
       "    <\/tr>\n",
       "    <tr>\n",
       "      <th>3<\/th>\n",
       "      <td>2020-02-27<\/td>\n",
       "      <td>AFG<\/td>\n",
       "      <td>Afghanistan<\/td>\n",
       "      <td>Low income<\/td>\n",
       "      <td>South Asia<\/td>\n",
       "      <td>Asia<\/td>\n",
       "      <td>0<\/td>\n",
       "      <td>0<\/td>\n",
       "      <td>38041754<\/td>\n",
       "      <td>Thu<\/td>\n",
       "      <td>Feb<\/td>\n",
       "    <\/tr>\n",
       "    <tr>\n",
       "      <th>4<\/th>\n",
       "      <td>2020-02-28<\/td>\n",
       "      <td>AFG<\/td>\n",
       "      <td>Afghanistan<\/td>\n",
       "      <td>Low income<\/td>\n",
       "      <td>South Asia<\/td>\n",
       "      <td>Asia<\/td>\n",
       "      <td>0<\/td>\n",
       "      <td>0<\/td>\n",
       "      <td>38041754<\/td>\n",
       "      <td>Fri<\/td>\n",
       "      <td>Feb<\/td>\n",
       "    <\/tr>\n",
       "    <tr>\n",
       "      <th>...<\/th>\n",
       "      <td>...<\/td>\n",
       "      <td>...<\/td>\n",
       "      <td>...<\/td>\n",
       "      <td>...<\/td>\n",
       "      <td>...<\/td>\n",
       "      <td>...<\/td>\n",
       "      <td>...<\/td>\n",
       "      <td>...<\/td>\n",
       "      <td>...<\/td>\n",
       "      <td>...<\/td>\n",
       "      <td>...<\/td>\n",
       "    <\/tr>\n",
       "    <tr>\n",
       "      <th>122838<\/th>\n",
       "      <td>2021-12-27<\/td>\n",
       "      <td>ZWE<\/td>\n",
       "      <td>Zimbabwe<\/td>\n",
       "      <td>Lower middle income<\/td>\n",
       "      <td>Sub-Saharan Africa<\/td>\n",
       "      <td>Africa<\/td>\n",
       "      <td>1098<\/td>\n",
       "      <td>17<\/td>\n",
       "      <td>14645468<\/td>\n",
       "      <td>Mon<\/td>\n",
       "      <td>Dec<\/td>\n",
       "    <\/tr>\n",
       "    <tr>\n",
       "      <th>122839<\/th>\n",
       "      <td>2021-12-28<\/td>\n",
       "      <td>ZWE<\/td>\n",
       "      <td>Zimbabwe<\/td>\n",
       "      <td>Lower middle income<\/td>\n",
       "      <td>Sub-Saharan Africa<\/td>\n",
       "      <td>Africa<\/td>\n",
       "      <td>2099<\/td>\n",
       "      <td>32<\/td>\n",
       "      <td>14645468<\/td>\n",
       "      <td>Tue<\/td>\n",
       "      <td>Dec<\/td>\n",
       "    <\/tr>\n",
       "    <tr>\n",
       "      <th>122840<\/th>\n",
       "      <td>2021-12-29<\/td>\n",
       "      <td>ZWE<\/td>\n",
       "      <td>Zimbabwe<\/td>\n",
       "      <td>Lower middle income<\/td>\n",
       "      <td>Sub-Saharan Africa<\/td>\n",
       "      <td>Africa<\/td>\n",
       "      <td>0<\/td>\n",
       "      <td>0<\/td>\n",
       "      <td>14645468<\/td>\n",
       "      <td>Wed<\/td>\n",
       "      <td>Dec<\/td>\n",
       "    <\/tr>\n",
       "    <tr>\n",
       "      <th>122841<\/th>\n",
       "      <td>2021-12-30<\/td>\n",
       "      <td>ZWE<\/td>\n",
       "      <td>Zimbabwe<\/td>\n",
       "      <td>Lower middle income<\/td>\n",
       "      <td>Sub-Saharan Africa<\/td>\n",
       "      <td>Africa<\/td>\n",
       "      <td>4180<\/td>\n",
       "      <td>57<\/td>\n",
       "      <td>14645468<\/td>\n",
       "      <td>Thu<\/td>\n",
       "      <td>Dec<\/td>\n",
       "    <\/tr>\n",
       "    <tr>\n",
       "      <th>122842<\/th>\n",
       "      <td>2021-12-31<\/td>\n",
       "      <td>ZWE<\/td>\n",
       "      <td>Zimbabwe<\/td>\n",
       "      <td>Lower middle income<\/td>\n",
       "      <td>Sub-Saharan Africa<\/td>\n",
       "      <td>Africa<\/td>\n",
       "      <td>1530<\/td>\n",
       "      <td>7<\/td>\n",
       "      <td>14645468<\/td>\n",
       "      <td>Fri<\/td>\n",
       "      <td>Dec<\/td>\n",
       "    <\/tr>\n",
       "  <\/tbody>\n",
       "<\/table>\n",
       "<p>122843 rows × 11 columns<\/p>\n",
       "<\/div>"
      ]
     },
     "metadata":{
      
     },
     "output_type":"display_data"
    }
   ],
   "metadata":{
    "datalore":{
     "type":"CODE",
     "hide_input_from_viewers":false,
     "hide_output_from_viewers":false
    }
   }
  },
  {
   "cell_type":"code",
   "source":[
    "from pandas.api.types import CategoricalDtype\n",
    "cats=['Fri', 'Sat' , 'Sun', 'Mon', 'Tue' , 'Wed', 'Thu']\n",
    "cat_type= CategoricalDtype(categories=cats, ordered=True)\n",
    "df['weekdays']=df['weekdays'].astype(cat_type)"
   ],
   "execution_count":47,
   "outputs":[
    
   ],
   "metadata":{
    "datalore":{
     "type":"CODE",
     "hide_input_from_viewers":false,
     "hide_output_from_viewers":false
    }
   }
  },
  {
   "cell_type":"code",
   "source":[
    "dfegy=df[df['country']=='Egypt']"
   ],
   "execution_count":48,
   "outputs":[
    
   ],
   "metadata":{
    "datalore":{
     "type":"CODE",
     "hide_input_from_viewers":false,
     "hide_output_from_viewers":false
    }
   }
  },
  {
   "cell_type":"code",
   "source":[
    "stats=dfegy.groupby(\"weekdays\").agg({\"dcases\": [np.mean, np.std, np.size]})"
   ],
   "execution_count":49,
   "outputs":[
    
   ],
   "metadata":{
    "datalore":{
     "type":"CODE",
     "hide_input_from_viewers":false,
     "hide_output_from_viewers":false
    }
   }
  },
  {
   "cell_type":"code",
   "source":[
    "stats"
   ],
   "execution_count":50,
   "outputs":[
    {
     "data":{
      "text\/html":[
       "<div>\n",
       "<style scoped>\n",
       "    .dataframe tbody tr th:only-of-type {\n",
       "        vertical-align: middle;\n",
       "    }\n",
       "\n",
       "    .dataframe tbody tr th {\n",
       "        vertical-align: top;\n",
       "    }\n",
       "\n",
       "    .dataframe thead tr th {\n",
       "        text-align: left;\n",
       "    }\n",
       "\n",
       "    .dataframe thead tr:last-of-type th {\n",
       "        text-align: right;\n",
       "    }\n",
       "<\/style>\n",
       "<table border=\"1\" class=\"dataframe\">\n",
       "  <thead>\n",
       "    <tr>\n",
       "      <th><\/th>\n",
       "      <th colspan=\"3\" halign=\"left\">dcases<\/th>\n",
       "    <\/tr>\n",
       "    <tr>\n",
       "      <th><\/th>\n",
       "      <th>mean<\/th>\n",
       "      <th>std<\/th>\n",
       "      <th>size<\/th>\n",
       "    <\/tr>\n",
       "    <tr>\n",
       "      <th>weekdays<\/th>\n",
       "      <th><\/th>\n",
       "      <th><\/th>\n",
       "      <th><\/th>\n",
       "    <\/tr>\n",
       "  <\/thead>\n",
       "  <tbody>\n",
       "    <tr>\n",
       "      <th>Fri<\/th>\n",
       "      <td>567.161616<\/td>\n",
       "      <td>428.533849<\/td>\n",
       "      <td>99<\/td>\n",
       "    <\/tr>\n",
       "    <tr>\n",
       "      <th>Sat<\/th>\n",
       "      <td>558.806122<\/td>\n",
       "      <td>421.803605<\/td>\n",
       "      <td>98<\/td>\n",
       "    <\/tr>\n",
       "    <tr>\n",
       "      <th>Sun<\/th>\n",
       "      <td>545.520408<\/td>\n",
       "      <td>422.358748<\/td>\n",
       "      <td>98<\/td>\n",
       "    <\/tr>\n",
       "    <tr>\n",
       "      <th>Mon<\/th>\n",
       "      <td>561.846939<\/td>\n",
       "      <td>442.137949<\/td>\n",
       "      <td>98<\/td>\n",
       "    <\/tr>\n",
       "    <tr>\n",
       "      <th>Tue<\/th>\n",
       "      <td>566.153061<\/td>\n",
       "      <td>419.125460<\/td>\n",
       "      <td>98<\/td>\n",
       "    <\/tr>\n",
       "    <tr>\n",
       "      <th>Wed<\/th>\n",
       "      <td>561.479592<\/td>\n",
       "      <td>406.337812<\/td>\n",
       "      <td>98<\/td>\n",
       "    <\/tr>\n",
       "    <tr>\n",
       "      <th>Thu<\/th>\n",
       "      <td>567.683673<\/td>\n",
       "      <td>410.020004<\/td>\n",
       "      <td>98<\/td>\n",
       "    <\/tr>\n",
       "  <\/tbody>\n",
       "<\/table>\n",
       "<\/div>"
      ]
     },
     "metadata":{
      
     },
     "output_type":"display_data"
    }
   ],
   "metadata":{
    "datalore":{
     "type":"CODE",
     "hide_input_from_viewers":false,
     "hide_output_from_viewers":false
    }
   }
  },
  {
   "cell_type":"code",
   "source":[
    "ci95_h = []\n",
    "ci95_l = []"
   ],
   "execution_count":51,
   "outputs":[
    
   ],
   "metadata":{
    "datalore":{
     "type":"CODE",
     "hide_input_from_viewers":false,
     "hide_output_from_viewers":false
    }
   }
  },
  {
   "cell_type":"code",
   "source":[
    "import scipy.stats"
   ],
   "execution_count":52,
   "outputs":[
    
   ],
   "metadata":{
    "datalore":{
     "type":"CODE",
     "hide_input_from_viewers":false,
     "hide_output_from_viewers":false
    }
   }
  },
  {
   "cell_type":"code",
   "source":[
    "stats.index"
   ],
   "execution_count":53,
   "outputs":[
    {
     "data":{
      "text\/plain":[
       "CategoricalIndex(['Fri', 'Sat', 'Sun', 'Mon', 'Tue', 'Wed', 'Thu'], categories=['Fri', 'Sat', 'Sun', 'Mon', 'Tue', 'Wed', 'Thu'], ordered=True, dtype='category', name='weekdays')"
      ]
     },
     "metadata":{
      
     },
     "output_type":"display_data"
    }
   ],
   "metadata":{
    "datalore":{
     "type":"CODE",
     "hide_input_from_viewers":false,
     "hide_output_from_viewers":false
    }
   }
  },
  {
   "cell_type":"code",
   "source":[
    "for i in stats.index:\n",
    " m, s, n = stats.loc[i]\n",
    " x=scipy.stats.t.interval(.95, n-1, m,s\/np.sqrt(n-1))\n",
    " ci95_h.append(x[1])\n",
    " ci95_l.append(x[0])"
   ],
   "execution_count":54,
   "outputs":[
    
   ],
   "metadata":{
    "datalore":{
     "type":"CODE",
     "hide_input_from_viewers":false,
     "hide_output_from_viewers":false
    }
   }
  },
  {
   "cell_type":"code",
   "source":[
    "ci95_h"
   ],
   "execution_count":55,
   "outputs":[
    {
     "data":{
      "text\/plain":[
       "[653.0661477518557,\n",
       " 643.8071867945697,\n",
       " 630.633343760431,\n",
       " 650.9457415593621,\n",
       " 650.614430845941,\n",
       " 643.3640186561778,\n",
       " 650.3101288341297]"
      ]
     },
     "metadata":{
      
     },
     "output_type":"display_data"
    }
   ],
   "metadata":{
    "datalore":{
     "type":"CODE",
     "hide_input_from_viewers":false,
     "hide_output_from_viewers":false
    }
   }
  },
  {
   "cell_type":"code",
   "source":[
    "ci95_l"
   ],
   "execution_count":56,
   "outputs":[
    {
     "data":{
      "text\/plain":[
       "[481.2570845713766,\n",
       " 473.80505810338957,\n",
       " 460.4074725660996,\n",
       " 472.74813599165833,\n",
       " 481.6916916030385,\n",
       " 479.5951650172916,\n",
       " 485.0572181046457]"
      ]
     },
     "metadata":{
      
     },
     "output_type":"display_data"
    }
   ],
   "metadata":{
    "datalore":{
     "type":"CODE",
     "hide_input_from_viewers":false,
     "hide_output_from_viewers":false
    }
   }
  },
  {
   "cell_type":"code",
   "source":[
    "stats['ci95_hi'] = ci95_h\n",
    "stats['ci95_lo'] = ci95_l\n",
    "print(stats)"
   ],
   "execution_count":57,
   "outputs":[
    {
     "name":"stdout",
     "text":[
      "              dcases                      ci95_hi     ci95_lo\n",
      "                mean         std size                        \n",
      "weekdays                                                     \n",
      "Fri       567.161616  428.533849   99  653.066148  481.257085\n",
      "Sat       558.806122  421.803605   98  643.807187  473.805058\n",
      "Sun       545.520408  422.358748   98  630.633344  460.407473\n",
      "Mon       561.846939  442.137949   98  650.945742  472.748136\n",
      "Tue       566.153061  419.125460   98  650.614431  481.691692\n",
      "Wed       561.479592  406.337812   98  643.364019  479.595165\n",
      "Thu       567.683673  410.020004   98  650.310129  485.057218\n"
     ],
     "output_type":"stream"
    }
   ],
   "metadata":{
    "datalore":{
     "type":"CODE",
     "hide_input_from_viewers":false,
     "hide_output_from_viewers":false
    }
   }
  },
  {
   "cell_type":"code",
   "source":[
    "df_ci= pd.DataFrame(stats)\n",
    "df_ci['weekdays']=df_ci.index"
   ],
   "execution_count":58,
   "outputs":[
    
   ],
   "metadata":{
    "datalore":{
     "type":"CODE",
     "hide_input_from_viewers":false,
     "hide_output_from_viewers":false
    }
   }
  },
  {
   "cell_type":"code",
   "source":[
    "df_ci"
   ],
   "execution_count":59,
   "outputs":[
    {
     "data":{
      "text\/html":[
       "<div>\n",
       "<style scoped>\n",
       "    .dataframe tbody tr th:only-of-type {\n",
       "        vertical-align: middle;\n",
       "    }\n",
       "\n",
       "    .dataframe tbody tr th {\n",
       "        vertical-align: top;\n",
       "    }\n",
       "\n",
       "    .dataframe thead tr th {\n",
       "        text-align: left;\n",
       "    }\n",
       "\n",
       "    .dataframe thead tr:last-of-type th {\n",
       "        text-align: right;\n",
       "    }\n",
       "<\/style>\n",
       "<table border=\"1\" class=\"dataframe\">\n",
       "  <thead>\n",
       "    <tr>\n",
       "      <th><\/th>\n",
       "      <th colspan=\"3\" halign=\"left\">dcases<\/th>\n",
       "      <th>ci95_hi<\/th>\n",
       "      <th>ci95_lo<\/th>\n",
       "      <th>weekdays<\/th>\n",
       "    <\/tr>\n",
       "    <tr>\n",
       "      <th><\/th>\n",
       "      <th>mean<\/th>\n",
       "      <th>std<\/th>\n",
       "      <th>size<\/th>\n",
       "      <th><\/th>\n",
       "      <th><\/th>\n",
       "      <th><\/th>\n",
       "    <\/tr>\n",
       "    <tr>\n",
       "      <th>weekdays<\/th>\n",
       "      <th><\/th>\n",
       "      <th><\/th>\n",
       "      <th><\/th>\n",
       "      <th><\/th>\n",
       "      <th><\/th>\n",
       "      <th><\/th>\n",
       "    <\/tr>\n",
       "  <\/thead>\n",
       "  <tbody>\n",
       "    <tr>\n",
       "      <th>Fri<\/th>\n",
       "      <td>567.161616<\/td>\n",
       "      <td>428.533849<\/td>\n",
       "      <td>99<\/td>\n",
       "      <td>653.066148<\/td>\n",
       "      <td>481.257085<\/td>\n",
       "      <td>Fri<\/td>\n",
       "    <\/tr>\n",
       "    <tr>\n",
       "      <th>Sat<\/th>\n",
       "      <td>558.806122<\/td>\n",
       "      <td>421.803605<\/td>\n",
       "      <td>98<\/td>\n",
       "      <td>643.807187<\/td>\n",
       "      <td>473.805058<\/td>\n",
       "      <td>Sat<\/td>\n",
       "    <\/tr>\n",
       "    <tr>\n",
       "      <th>Sun<\/th>\n",
       "      <td>545.520408<\/td>\n",
       "      <td>422.358748<\/td>\n",
       "      <td>98<\/td>\n",
       "      <td>630.633344<\/td>\n",
       "      <td>460.407473<\/td>\n",
       "      <td>Sun<\/td>\n",
       "    <\/tr>\n",
       "    <tr>\n",
       "      <th>Mon<\/th>\n",
       "      <td>561.846939<\/td>\n",
       "      <td>442.137949<\/td>\n",
       "      <td>98<\/td>\n",
       "      <td>650.945742<\/td>\n",
       "      <td>472.748136<\/td>\n",
       "      <td>Mon<\/td>\n",
       "    <\/tr>\n",
       "    <tr>\n",
       "      <th>Tue<\/th>\n",
       "      <td>566.153061<\/td>\n",
       "      <td>419.125460<\/td>\n",
       "      <td>98<\/td>\n",
       "      <td>650.614431<\/td>\n",
       "      <td>481.691692<\/td>\n",
       "      <td>Tue<\/td>\n",
       "    <\/tr>\n",
       "    <tr>\n",
       "      <th>Wed<\/th>\n",
       "      <td>561.479592<\/td>\n",
       "      <td>406.337812<\/td>\n",
       "      <td>98<\/td>\n",
       "      <td>643.364019<\/td>\n",
       "      <td>479.595165<\/td>\n",
       "      <td>Wed<\/td>\n",
       "    <\/tr>\n",
       "    <tr>\n",
       "      <th>Thu<\/th>\n",
       "      <td>567.683673<\/td>\n",
       "      <td>410.020004<\/td>\n",
       "      <td>98<\/td>\n",
       "      <td>650.310129<\/td>\n",
       "      <td>485.057218<\/td>\n",
       "      <td>Thu<\/td>\n",
       "    <\/tr>\n",
       "  <\/tbody>\n",
       "<\/table>\n",
       "<\/div>"
      ]
     },
     "metadata":{
      
     },
     "output_type":"display_data"
    }
   ],
   "metadata":{
    "datalore":{
     "type":"CODE",
     "hide_input_from_viewers":false,
     "hide_output_from_viewers":false
    }
   }
  },
  {
   "cell_type":"code",
   "source":[
    "for lb,ub,y in zip(df_ci['ci95_lo'],df_ci['ci95_hi'],range(len(df_ci))):\n",
    "    plt.plot((lb,ub),(y,y),'ro-')\n",
    "plt.yticks(range(len(df_ci)),list(df_ci['weekdays']))\n",
    "plt.xlim([400, 700])"
   ],
   "execution_count":60,
   "outputs":[
    {
     "data":{
      "text\/plain":[
       "(400.0, 700.0)"
      ],
      "image\/png":"[encoded data removed]"
     },
     "metadata":{
      "image\/png":{
       
      }
     },
     "output_type":"display_data"
    }
   ],
   "metadata":{
    "datalore":{
     "type":"CODE",
     "hide_input_from_viewers":false,
     "hide_output_from_viewers":false
    }
   }
  },
  {
   "cell_type":"markdown",
   "source":[
    "This shows that all the days in the week have nearly the same probability of cases, with Sunday having the least probability. that's because in all countries Saturday is a day off so it is logical that people would isolate that day and that would decrease the number of cases reported on Sunday"
   ],
   "attachments":{
    
   },
   "metadata":{
    "datalore":{
     "type":"MD",
     "hide_input_from_viewers":false,
     "hide_output_from_viewers":false
    }
   }
  },
  {
   "cell_type":"markdown",
   "source":[
    "#### in this part, im going to make a new dataframe with the fatality rate (deaths\/cases) for each row, a dataframe for 2020, and a dataframe for 2021"
   ],
   "attachments":{
    
   },
   "metadata":{
    "datalore":{
     "type":"MD",
     "hide_input_from_viewers":false,
     "hide_output_from_viewers":false
    }
   }
  },
  {
   "cell_type":"code",
   "source":[
    "fatality= df['ddeaths']\/df['dcases']\n",
    "df['fatality'] = fatality\n",
    "df['fatality'] = df['fatality'].fillna(0)\n",
    "df"
   ],
   "execution_count":61,
   "outputs":[
    {
     "data":{
      "text\/html":[
       "<div>\n",
       "<style scoped>\n",
       "    .dataframe tbody tr th:only-of-type {\n",
       "        vertical-align: middle;\n",
       "    }\n",
       "\n",
       "    .dataframe tbody tr th {\n",
       "        vertical-align: top;\n",
       "    }\n",
       "\n",
       "    .dataframe thead th {\n",
       "        text-align: right;\n",
       "    }\n",
       "<\/style>\n",
       "<table border=\"1\" class=\"dataframe\">\n",
       "  <thead>\n",
       "    <tr style=\"text-align: right;\">\n",
       "      <th><\/th>\n",
       "      <th>date<\/th>\n",
       "      <th>iso3c<\/th>\n",
       "      <th>country<\/th>\n",
       "      <th>income<\/th>\n",
       "      <th>region<\/th>\n",
       "      <th>continent<\/th>\n",
       "      <th>dcases<\/th>\n",
       "      <th>ddeaths<\/th>\n",
       "      <th>population<\/th>\n",
       "      <th>weekdays<\/th>\n",
       "      <th>month<\/th>\n",
       "      <th>fatality<\/th>\n",
       "    <\/tr>\n",
       "  <\/thead>\n",
       "  <tbody>\n",
       "    <tr>\n",
       "      <th>0<\/th>\n",
       "      <td>2020-02-24<\/td>\n",
       "      <td>AFG<\/td>\n",
       "      <td>Afghanistan<\/td>\n",
       "      <td>Low income<\/td>\n",
       "      <td>South Asia<\/td>\n",
       "      <td>Asia<\/td>\n",
       "      <td>5<\/td>\n",
       "      <td>0<\/td>\n",
       "      <td>38041754<\/td>\n",
       "      <td>Mon<\/td>\n",
       "      <td>Feb<\/td>\n",
       "      <td>0.000000<\/td>\n",
       "    <\/tr>\n",
       "    <tr>\n",
       "      <th>1<\/th>\n",
       "      <td>2020-02-25<\/td>\n",
       "      <td>AFG<\/td>\n",
       "      <td>Afghanistan<\/td>\n",
       "      <td>Low income<\/td>\n",
       "      <td>South Asia<\/td>\n",
       "      <td>Asia<\/td>\n",
       "      <td>0<\/td>\n",
       "      <td>0<\/td>\n",
       "      <td>38041754<\/td>\n",
       "      <td>Tue<\/td>\n",
       "      <td>Feb<\/td>\n",
       "      <td>0.000000<\/td>\n",
       "    <\/tr>\n",
       "    <tr>\n",
       "      <th>2<\/th>\n",
       "      <td>2020-02-26<\/td>\n",
       "      <td>AFG<\/td>\n",
       "      <td>Afghanistan<\/td>\n",
       "      <td>Low income<\/td>\n",
       "      <td>South Asia<\/td>\n",
       "      <td>Asia<\/td>\n",
       "      <td>0<\/td>\n",
       "      <td>0<\/td>\n",
       "      <td>38041754<\/td>\n",
       "      <td>Wed<\/td>\n",
       "      <td>Feb<\/td>\n",
       "      <td>0.000000<\/td>\n",
       "    <\/tr>\n",
       "    <tr>\n",
       "      <th>3<\/th>\n",
       "      <td>2020-02-27<\/td>\n",
       "      <td>AFG<\/td>\n",
       "      <td>Afghanistan<\/td>\n",
       "      <td>Low income<\/td>\n",
       "      <td>South Asia<\/td>\n",
       "      <td>Asia<\/td>\n",
       "      <td>0<\/td>\n",
       "      <td>0<\/td>\n",
       "      <td>38041754<\/td>\n",
       "      <td>Thu<\/td>\n",
       "      <td>Feb<\/td>\n",
       "      <td>0.000000<\/td>\n",
       "    <\/tr>\n",
       "    <tr>\n",
       "      <th>4<\/th>\n",
       "      <td>2020-02-28<\/td>\n",
       "      <td>AFG<\/td>\n",
       "      <td>Afghanistan<\/td>\n",
       "      <td>Low income<\/td>\n",
       "      <td>South Asia<\/td>\n",
       "      <td>Asia<\/td>\n",
       "      <td>0<\/td>\n",
       "      <td>0<\/td>\n",
       "      <td>38041754<\/td>\n",
       "      <td>Fri<\/td>\n",
       "      <td>Feb<\/td>\n",
       "      <td>0.000000<\/td>\n",
       "    <\/tr>\n",
       "    <tr>\n",
       "      <th>...<\/th>\n",
       "      <td>...<\/td>\n",
       "      <td>...<\/td>\n",
       "      <td>...<\/td>\n",
       "      <td>...<\/td>\n",
       "      <td>...<\/td>\n",
       "      <td>...<\/td>\n",
       "      <td>...<\/td>\n",
       "      <td>...<\/td>\n",
       "      <td>...<\/td>\n",
       "      <td>...<\/td>\n",
       "      <td>...<\/td>\n",
       "      <td>...<\/td>\n",
       "    <\/tr>\n",
       "    <tr>\n",
       "      <th>122838<\/th>\n",
       "      <td>2021-12-27<\/td>\n",
       "      <td>ZWE<\/td>\n",
       "      <td>Zimbabwe<\/td>\n",
       "      <td>Lower middle income<\/td>\n",
       "      <td>Sub-Saharan Africa<\/td>\n",
       "      <td>Africa<\/td>\n",
       "      <td>1098<\/td>\n",
       "      <td>17<\/td>\n",
       "      <td>14645468<\/td>\n",
       "      <td>Mon<\/td>\n",
       "      <td>Dec<\/td>\n",
       "      <td>0.015483<\/td>\n",
       "    <\/tr>\n",
       "    <tr>\n",
       "      <th>122839<\/th>\n",
       "      <td>2021-12-28<\/td>\n",
       "      <td>ZWE<\/td>\n",
       "      <td>Zimbabwe<\/td>\n",
       "      <td>Lower middle income<\/td>\n",
       "      <td>Sub-Saharan Africa<\/td>\n",
       "      <td>Africa<\/td>\n",
       "      <td>2099<\/td>\n",
       "      <td>32<\/td>\n",
       "      <td>14645468<\/td>\n",
       "      <td>Tue<\/td>\n",
       "      <td>Dec<\/td>\n",
       "      <td>0.015245<\/td>\n",
       "    <\/tr>\n",
       "    <tr>\n",
       "      <th>122840<\/th>\n",
       "      <td>2021-12-29<\/td>\n",
       "      <td>ZWE<\/td>\n",
       "      <td>Zimbabwe<\/td>\n",
       "      <td>Lower middle income<\/td>\n",
       "      <td>Sub-Saharan Africa<\/td>\n",
       "      <td>Africa<\/td>\n",
       "      <td>0<\/td>\n",
       "      <td>0<\/td>\n",
       "      <td>14645468<\/td>\n",
       "      <td>Wed<\/td>\n",
       "      <td>Dec<\/td>\n",
       "      <td>0.000000<\/td>\n",
       "    <\/tr>\n",
       "    <tr>\n",
       "      <th>122841<\/th>\n",
       "      <td>2021-12-30<\/td>\n",
       "      <td>ZWE<\/td>\n",
       "      <td>Zimbabwe<\/td>\n",
       "      <td>Lower middle income<\/td>\n",
       "      <td>Sub-Saharan Africa<\/td>\n",
       "      <td>Africa<\/td>\n",
       "      <td>4180<\/td>\n",
       "      <td>57<\/td>\n",
       "      <td>14645468<\/td>\n",
       "      <td>Thu<\/td>\n",
       "      <td>Dec<\/td>\n",
       "      <td>0.013636<\/td>\n",
       "    <\/tr>\n",
       "    <tr>\n",
       "      <th>122842<\/th>\n",
       "      <td>2021-12-31<\/td>\n",
       "      <td>ZWE<\/td>\n",
       "      <td>Zimbabwe<\/td>\n",
       "      <td>Lower middle income<\/td>\n",
       "      <td>Sub-Saharan Africa<\/td>\n",
       "      <td>Africa<\/td>\n",
       "      <td>1530<\/td>\n",
       "      <td>7<\/td>\n",
       "      <td>14645468<\/td>\n",
       "      <td>Fri<\/td>\n",
       "      <td>Dec<\/td>\n",
       "      <td>0.004575<\/td>\n",
       "    <\/tr>\n",
       "  <\/tbody>\n",
       "<\/table>\n",
       "<p>122843 rows × 12 columns<\/p>\n",
       "<\/div>"
      ]
     },
     "metadata":{
      
     },
     "output_type":"display_data"
    }
   ],
   "metadata":{
    "datalore":{
     "type":"CODE",
     "hide_input_from_viewers":false,
     "hide_output_from_viewers":false
    }
   }
  },
  {
   "cell_type":"code",
   "source":[
    "mask = (df['date'] > '2019-12-31') & (df['date'] <= '2020-12-31')\n",
    "df2020=df.loc[mask]\n",
    "df2020"
   ],
   "execution_count":62,
   "outputs":[
    {
     "data":{
      "text\/html":[
       "<div>\n",
       "<style scoped>\n",
       "    .dataframe tbody tr th:only-of-type {\n",
       "        vertical-align: middle;\n",
       "    }\n",
       "\n",
       "    .dataframe tbody tr th {\n",
       "        vertical-align: top;\n",
       "    }\n",
       "\n",
       "    .dataframe thead th {\n",
       "        text-align: right;\n",
       "    }\n",
       "<\/style>\n",
       "<table border=\"1\" class=\"dataframe\">\n",
       "  <thead>\n",
       "    <tr style=\"text-align: right;\">\n",
       "      <th><\/th>\n",
       "      <th>date<\/th>\n",
       "      <th>iso3c<\/th>\n",
       "      <th>country<\/th>\n",
       "      <th>income<\/th>\n",
       "      <th>region<\/th>\n",
       "      <th>continent<\/th>\n",
       "      <th>dcases<\/th>\n",
       "      <th>ddeaths<\/th>\n",
       "      <th>population<\/th>\n",
       "      <th>weekdays<\/th>\n",
       "      <th>month<\/th>\n",
       "      <th>fatality<\/th>\n",
       "    <\/tr>\n",
       "  <\/thead>\n",
       "  <tbody>\n",
       "    <tr>\n",
       "      <th>0<\/th>\n",
       "      <td>2020-02-24<\/td>\n",
       "      <td>AFG<\/td>\n",
       "      <td>Afghanistan<\/td>\n",
       "      <td>Low income<\/td>\n",
       "      <td>South Asia<\/td>\n",
       "      <td>Asia<\/td>\n",
       "      <td>5<\/td>\n",
       "      <td>0<\/td>\n",
       "      <td>38041754<\/td>\n",
       "      <td>Mon<\/td>\n",
       "      <td>Feb<\/td>\n",
       "      <td>0.000000<\/td>\n",
       "    <\/tr>\n",
       "    <tr>\n",
       "      <th>1<\/th>\n",
       "      <td>2020-02-25<\/td>\n",
       "      <td>AFG<\/td>\n",
       "      <td>Afghanistan<\/td>\n",
       "      <td>Low income<\/td>\n",
       "      <td>South Asia<\/td>\n",
       "      <td>Asia<\/td>\n",
       "      <td>0<\/td>\n",
       "      <td>0<\/td>\n",
       "      <td>38041754<\/td>\n",
       "      <td>Tue<\/td>\n",
       "      <td>Feb<\/td>\n",
       "      <td>0.000000<\/td>\n",
       "    <\/tr>\n",
       "    <tr>\n",
       "      <th>2<\/th>\n",
       "      <td>2020-02-26<\/td>\n",
       "      <td>AFG<\/td>\n",
       "      <td>Afghanistan<\/td>\n",
       "      <td>Low income<\/td>\n",
       "      <td>South Asia<\/td>\n",
       "      <td>Asia<\/td>\n",
       "      <td>0<\/td>\n",
       "      <td>0<\/td>\n",
       "      <td>38041754<\/td>\n",
       "      <td>Wed<\/td>\n",
       "      <td>Feb<\/td>\n",
       "      <td>0.000000<\/td>\n",
       "    <\/tr>\n",
       "    <tr>\n",
       "      <th>3<\/th>\n",
       "      <td>2020-02-27<\/td>\n",
       "      <td>AFG<\/td>\n",
       "      <td>Afghanistan<\/td>\n",
       "      <td>Low income<\/td>\n",
       "      <td>South Asia<\/td>\n",
       "      <td>Asia<\/td>\n",
       "      <td>0<\/td>\n",
       "      <td>0<\/td>\n",
       "      <td>38041754<\/td>\n",
       "      <td>Thu<\/td>\n",
       "      <td>Feb<\/td>\n",
       "      <td>0.000000<\/td>\n",
       "    <\/tr>\n",
       "    <tr>\n",
       "      <th>4<\/th>\n",
       "      <td>2020-02-28<\/td>\n",
       "      <td>AFG<\/td>\n",
       "      <td>Afghanistan<\/td>\n",
       "      <td>Low income<\/td>\n",
       "      <td>South Asia<\/td>\n",
       "      <td>Asia<\/td>\n",
       "      <td>0<\/td>\n",
       "      <td>0<\/td>\n",
       "      <td>38041754<\/td>\n",
       "      <td>Fri<\/td>\n",
       "      <td>Feb<\/td>\n",
       "      <td>0.000000<\/td>\n",
       "    <\/tr>\n",
       "    <tr>\n",
       "      <th>...<\/th>\n",
       "      <td>...<\/td>\n",
       "      <td>...<\/td>\n",
       "      <td>...<\/td>\n",
       "      <td>...<\/td>\n",
       "      <td>...<\/td>\n",
       "      <td>...<\/td>\n",
       "      <td>...<\/td>\n",
       "      <td>...<\/td>\n",
       "      <td>...<\/td>\n",
       "      <td>...<\/td>\n",
       "      <td>...<\/td>\n",
       "      <td>...<\/td>\n",
       "    <\/tr>\n",
       "    <tr>\n",
       "      <th>122473<\/th>\n",
       "      <td>2020-12-27<\/td>\n",
       "      <td>ZWE<\/td>\n",
       "      <td>Zimbabwe<\/td>\n",
       "      <td>Lower middle income<\/td>\n",
       "      <td>Sub-Saharan Africa<\/td>\n",
       "      <td>Africa<\/td>\n",
       "      <td>114<\/td>\n",
       "      <td>8<\/td>\n",
       "      <td>14645468<\/td>\n",
       "      <td>Sun<\/td>\n",
       "      <td>Dec<\/td>\n",
       "      <td>0.070175<\/td>\n",
       "    <\/tr>\n",
       "    <tr>\n",
       "      <th>122474<\/th>\n",
       "      <td>2020-12-28<\/td>\n",
       "      <td>ZWE<\/td>\n",
       "      <td>Zimbabwe<\/td>\n",
       "      <td>Lower middle income<\/td>\n",
       "      <td>Sub-Saharan Africa<\/td>\n",
       "      <td>Africa<\/td>\n",
       "      <td>71<\/td>\n",
       "      <td>5<\/td>\n",
       "      <td>14645468<\/td>\n",
       "      <td>Mon<\/td>\n",
       "      <td>Dec<\/td>\n",
       "      <td>0.070423<\/td>\n",
       "    <\/tr>\n",
       "    <tr>\n",
       "      <th>122475<\/th>\n",
       "      <td>2020-12-29<\/td>\n",
       "      <td>ZWE<\/td>\n",
       "      <td>Zimbabwe<\/td>\n",
       "      <td>Lower middle income<\/td>\n",
       "      <td>Sub-Saharan Africa<\/td>\n",
       "      <td>Africa<\/td>\n",
       "      <td>177<\/td>\n",
       "      <td>5<\/td>\n",
       "      <td>14645468<\/td>\n",
       "      <td>Tue<\/td>\n",
       "      <td>Dec<\/td>\n",
       "      <td>0.028249<\/td>\n",
       "    <\/tr>\n",
       "    <tr>\n",
       "      <th>122476<\/th>\n",
       "      <td>2020-12-30<\/td>\n",
       "      <td>ZWE<\/td>\n",
       "      <td>Zimbabwe<\/td>\n",
       "      <td>Lower middle income<\/td>\n",
       "      <td>Sub-Saharan Africa<\/td>\n",
       "      <td>Africa<\/td>\n",
       "      <td>300<\/td>\n",
       "      <td>1<\/td>\n",
       "      <td>14645468<\/td>\n",
       "      <td>Wed<\/td>\n",
       "      <td>Dec<\/td>\n",
       "      <td>0.003333<\/td>\n",
       "    <\/tr>\n",
       "    <tr>\n",
       "      <th>122477<\/th>\n",
       "      <td>2020-12-31<\/td>\n",
       "      <td>ZWE<\/td>\n",
       "      <td>Zimbabwe<\/td>\n",
       "      <td>Lower middle income<\/td>\n",
       "      <td>Sub-Saharan Africa<\/td>\n",
       "      <td>Africa<\/td>\n",
       "      <td>242<\/td>\n",
       "      <td>3<\/td>\n",
       "      <td>14645468<\/td>\n",
       "      <td>Thu<\/td>\n",
       "      <td>Dec<\/td>\n",
       "      <td>0.012397<\/td>\n",
       "    <\/tr>\n",
       "  <\/tbody>\n",
       "<\/table>\n",
       "<p>54958 rows × 12 columns<\/p>\n",
       "<\/div>"
      ]
     },
     "metadata":{
      
     },
     "output_type":"display_data"
    }
   ],
   "metadata":{
    "datalore":{
     "type":"CODE",
     "hide_input_from_viewers":false,
     "hide_output_from_viewers":false
    }
   }
  },
  {
   "cell_type":"code",
   "source":[
    "mask = (df['date'] > '2020-12-31') & (df['date'] <= '2021-12-31')\n",
    "df2021=df.loc[mask]\n",
    "df2021"
   ],
   "execution_count":63,
   "outputs":[
    {
     "data":{
      "text\/html":[
       "<div>\n",
       "<style scoped>\n",
       "    .dataframe tbody tr th:only-of-type {\n",
       "        vertical-align: middle;\n",
       "    }\n",
       "\n",
       "    .dataframe tbody tr th {\n",
       "        vertical-align: top;\n",
       "    }\n",
       "\n",
       "    .dataframe thead th {\n",
       "        text-align: right;\n",
       "    }\n",
       "<\/style>\n",
       "<table border=\"1\" class=\"dataframe\">\n",
       "  <thead>\n",
       "    <tr style=\"text-align: right;\">\n",
       "      <th><\/th>\n",
       "      <th>date<\/th>\n",
       "      <th>iso3c<\/th>\n",
       "      <th>country<\/th>\n",
       "      <th>income<\/th>\n",
       "      <th>region<\/th>\n",
       "      <th>continent<\/th>\n",
       "      <th>dcases<\/th>\n",
       "      <th>ddeaths<\/th>\n",
       "      <th>population<\/th>\n",
       "      <th>weekdays<\/th>\n",
       "      <th>month<\/th>\n",
       "      <th>fatality<\/th>\n",
       "    <\/tr>\n",
       "  <\/thead>\n",
       "  <tbody>\n",
       "    <tr>\n",
       "      <th>312<\/th>\n",
       "      <td>2021-01-01<\/td>\n",
       "      <td>AFG<\/td>\n",
       "      <td>Afghanistan<\/td>\n",
       "      <td>Low income<\/td>\n",
       "      <td>South Asia<\/td>\n",
       "      <td>Asia<\/td>\n",
       "      <td>183<\/td>\n",
       "      <td>12<\/td>\n",
       "      <td>38041754<\/td>\n",
       "      <td>Fri<\/td>\n",
       "      <td>Jan<\/td>\n",
       "      <td>0.065574<\/td>\n",
       "    <\/tr>\n",
       "    <tr>\n",
       "      <th>313<\/th>\n",
       "      <td>2021-01-02<\/td>\n",
       "      <td>AFG<\/td>\n",
       "      <td>Afghanistan<\/td>\n",
       "      <td>Low income<\/td>\n",
       "      <td>South Asia<\/td>\n",
       "      <td>Asia<\/td>\n",
       "      <td>73<\/td>\n",
       "      <td>10<\/td>\n",
       "      <td>38041754<\/td>\n",
       "      <td>Sat<\/td>\n",
       "      <td>Jan<\/td>\n",
       "      <td>0.136986<\/td>\n",
       "    <\/tr>\n",
       "    <tr>\n",
       "      <th>314<\/th>\n",
       "      <td>2021-01-03<\/td>\n",
       "      <td>AFG<\/td>\n",
       "      <td>Afghanistan<\/td>\n",
       "      <td>Low income<\/td>\n",
       "      <td>South Asia<\/td>\n",
       "      <td>Asia<\/td>\n",
       "      <td>123<\/td>\n",
       "      <td>10<\/td>\n",
       "      <td>38041754<\/td>\n",
       "      <td>Sun<\/td>\n",
       "      <td>Jan<\/td>\n",
       "      <td>0.081301<\/td>\n",
       "    <\/tr>\n",
       "    <tr>\n",
       "      <th>315<\/th>\n",
       "      <td>2021-01-04<\/td>\n",
       "      <td>AFG<\/td>\n",
       "      <td>Afghanistan<\/td>\n",
       "      <td>Low income<\/td>\n",
       "      <td>South Asia<\/td>\n",
       "      <td>Asia<\/td>\n",
       "      <td>200<\/td>\n",
       "      <td>9<\/td>\n",
       "      <td>38041754<\/td>\n",
       "      <td>Mon<\/td>\n",
       "      <td>Jan<\/td>\n",
       "      <td>0.045000<\/td>\n",
       "    <\/tr>\n",
       "    <tr>\n",
       "      <th>316<\/th>\n",
       "      <td>2021-01-05<\/td>\n",
       "      <td>AFG<\/td>\n",
       "      <td>Afghanistan<\/td>\n",
       "      <td>Low income<\/td>\n",
       "      <td>South Asia<\/td>\n",
       "      <td>Asia<\/td>\n",
       "      <td>102<\/td>\n",
       "      <td>7<\/td>\n",
       "      <td>38041754<\/td>\n",
       "      <td>Tue<\/td>\n",
       "      <td>Jan<\/td>\n",
       "      <td>0.068627<\/td>\n",
       "    <\/tr>\n",
       "    <tr>\n",
       "      <th>...<\/th>\n",
       "      <td>...<\/td>\n",
       "      <td>...<\/td>\n",
       "      <td>...<\/td>\n",
       "      <td>...<\/td>\n",
       "      <td>...<\/td>\n",
       "      <td>...<\/td>\n",
       "      <td>...<\/td>\n",
       "      <td>...<\/td>\n",
       "      <td>...<\/td>\n",
       "      <td>...<\/td>\n",
       "      <td>...<\/td>\n",
       "      <td>...<\/td>\n",
       "    <\/tr>\n",
       "    <tr>\n",
       "      <th>122838<\/th>\n",
       "      <td>2021-12-27<\/td>\n",
       "      <td>ZWE<\/td>\n",
       "      <td>Zimbabwe<\/td>\n",
       "      <td>Lower middle income<\/td>\n",
       "      <td>Sub-Saharan Africa<\/td>\n",
       "      <td>Africa<\/td>\n",
       "      <td>1098<\/td>\n",
       "      <td>17<\/td>\n",
       "      <td>14645468<\/td>\n",
       "      <td>Mon<\/td>\n",
       "      <td>Dec<\/td>\n",
       "      <td>0.015483<\/td>\n",
       "    <\/tr>\n",
       "    <tr>\n",
       "      <th>122839<\/th>\n",
       "      <td>2021-12-28<\/td>\n",
       "      <td>ZWE<\/td>\n",
       "      <td>Zimbabwe<\/td>\n",
       "      <td>Lower middle income<\/td>\n",
       "      <td>Sub-Saharan Africa<\/td>\n",
       "      <td>Africa<\/td>\n",
       "      <td>2099<\/td>\n",
       "      <td>32<\/td>\n",
       "      <td>14645468<\/td>\n",
       "      <td>Tue<\/td>\n",
       "      <td>Dec<\/td>\n",
       "      <td>0.015245<\/td>\n",
       "    <\/tr>\n",
       "    <tr>\n",
       "      <th>122840<\/th>\n",
       "      <td>2021-12-29<\/td>\n",
       "      <td>ZWE<\/td>\n",
       "      <td>Zimbabwe<\/td>\n",
       "      <td>Lower middle income<\/td>\n",
       "      <td>Sub-Saharan Africa<\/td>\n",
       "      <td>Africa<\/td>\n",
       "      <td>0<\/td>\n",
       "      <td>0<\/td>\n",
       "      <td>14645468<\/td>\n",
       "      <td>Wed<\/td>\n",
       "      <td>Dec<\/td>\n",
       "      <td>0.000000<\/td>\n",
       "    <\/tr>\n",
       "    <tr>\n",
       "      <th>122841<\/th>\n",
       "      <td>2021-12-30<\/td>\n",
       "      <td>ZWE<\/td>\n",
       "      <td>Zimbabwe<\/td>\n",
       "      <td>Lower middle income<\/td>\n",
       "      <td>Sub-Saharan Africa<\/td>\n",
       "      <td>Africa<\/td>\n",
       "      <td>4180<\/td>\n",
       "      <td>57<\/td>\n",
       "      <td>14645468<\/td>\n",
       "      <td>Thu<\/td>\n",
       "      <td>Dec<\/td>\n",
       "      <td>0.013636<\/td>\n",
       "    <\/tr>\n",
       "    <tr>\n",
       "      <th>122842<\/th>\n",
       "      <td>2021-12-31<\/td>\n",
       "      <td>ZWE<\/td>\n",
       "      <td>Zimbabwe<\/td>\n",
       "      <td>Lower middle income<\/td>\n",
       "      <td>Sub-Saharan Africa<\/td>\n",
       "      <td>Africa<\/td>\n",
       "      <td>1530<\/td>\n",
       "      <td>7<\/td>\n",
       "      <td>14645468<\/td>\n",
       "      <td>Fri<\/td>\n",
       "      <td>Dec<\/td>\n",
       "      <td>0.004575<\/td>\n",
       "    <\/tr>\n",
       "  <\/tbody>\n",
       "<\/table>\n",
       "<p>67885 rows × 12 columns<\/p>\n",
       "<\/div>"
      ]
     },
     "metadata":{
      
     },
     "output_type":"display_data"
    }
   ],
   "metadata":{
    "datalore":{
     "type":"CODE",
     "hide_input_from_viewers":false,
     "hide_output_from_viewers":false
    }
   }
  },
  {
   "cell_type":"markdown",
   "source":[
    "#### In this part, im going to analyze the following:the probanbility of deaths in 2020 in the 7 different regions"
   ],
   "attachments":{
    
   },
   "metadata":{
    "datalore":{
     "type":"MD",
     "hide_input_from_viewers":false,
     "hide_output_from_viewers":false
    }
   }
  },
  {
   "cell_type":"code",
   "source":[
    "df2020['dcases'].sum()"
   ],
   "execution_count":64,
   "outputs":[
    {
     "data":{
      "text\/plain":[
       "83839670"
      ]
     },
     "metadata":{
      
     },
     "output_type":"display_data"
    }
   ],
   "metadata":{
    "datalore":{
     "type":"CODE",
     "hide_input_from_viewers":false,
     "hide_output_from_viewers":false
    }
   }
  },
  {
   "cell_type":"code",
   "source":[
    "df2020['ddeaths'].sum()"
   ],
   "execution_count":65,
   "outputs":[
    {
     "data":{
      "text\/plain":[
       "1883714"
      ]
     },
     "metadata":{
      
     },
     "output_type":"display_data"
    }
   ],
   "metadata":{
    "datalore":{
     "type":"CODE",
     "hide_input_from_viewers":false,
     "hide_output_from_viewers":false
    }
   }
  },
  {
   "cell_type":"code",
   "source":[
    "df['region'].unique()"
   ],
   "execution_count":66,
   "outputs":[
    {
     "data":{
      "text\/html":[
       
      ]
     },
     "metadata":{
      
     },
     "output_type":"display_data"
    }
   ],
   "metadata":{
    "datalore":{
     "type":"CODE",
     "hide_input_from_viewers":false,
     "hide_output_from_viewers":false
    }
   }
  },
  {
   "cell_type":"code",
   "source":[
    "from pandas.api.types import CategoricalDtype\n",
    "cats=['South Asia', 'Sub-Saharan Africa', 'Europe & Central Asia','Middle East & North Africa','Latin America & Caribbean','East Asia & Pacific','North America']\n",
    "cat_type = CategoricalDtype(categories=cats, ordered=True)\n",
    "df['region'] = df['region'].astype(cat_type)"
   ],
   "execution_count":67,
   "outputs":[
    
   ],
   "metadata":{
    "datalore":{
     "type":"CODE",
     "hide_input_from_viewers":false,
     "hide_output_from_viewers":false
    }
   }
  },
  {
   "cell_type":"code",
   "source":[
    "stats=df2020.groupby(\"region\").agg({\"ddeaths\": [np.mean, np.std, np.size]})"
   ],
   "execution_count":68,
   "outputs":[
    
   ],
   "metadata":{
    "datalore":{
     "type":"CODE",
     "hide_input_from_viewers":false,
     "hide_output_from_viewers":false
    }
   }
  },
  {
   "cell_type":"code",
   "source":[
    "stats"
   ],
   "execution_count":69,
   "outputs":[
    {
     "data":{
      "text\/html":[
       "<div>\n",
       "<style scoped>\n",
       "    .dataframe tbody tr th:only-of-type {\n",
       "        vertical-align: middle;\n",
       "    }\n",
       "\n",
       "    .dataframe tbody tr th {\n",
       "        vertical-align: top;\n",
       "    }\n",
       "\n",
       "    .dataframe thead tr th {\n",
       "        text-align: left;\n",
       "    }\n",
       "\n",
       "    .dataframe thead tr:last-of-type th {\n",
       "        text-align: right;\n",
       "    }\n",
       "<\/style>\n",
       "<table border=\"1\" class=\"dataframe\">\n",
       "  <thead>\n",
       "    <tr>\n",
       "      <th><\/th>\n",
       "      <th colspan=\"3\" halign=\"left\">ddeaths<\/th>\n",
       "    <\/tr>\n",
       "    <tr>\n",
       "      <th><\/th>\n",
       "      <th>mean<\/th>\n",
       "      <th>std<\/th>\n",
       "      <th>size<\/th>\n",
       "    <\/tr>\n",
       "    <tr>\n",
       "      <th>region<\/th>\n",
       "      <th><\/th>\n",
       "      <th><\/th>\n",
       "      <th><\/th>\n",
       "    <\/tr>\n",
       "  <\/thead>\n",
       "  <tbody>\n",
       "    <tr>\n",
       "      <th>East Asia &amp; Pacific<\/th>\n",
       "      <td>7.110776<\/td>\n",
       "      <td>27.950752<\/td>\n",
       "      <td>6301<\/td>\n",
       "    <\/tr>\n",
       "    <tr>\n",
       "      <th>Europe &amp; Central Asia<\/th>\n",
       "      <td>36.913612<\/td>\n",
       "      <td>111.023170<\/td>\n",
       "      <td>15743<\/td>\n",
       "    <\/tr>\n",
       "    <tr>\n",
       "      <th>Latin America &amp; Caribbean<\/th>\n",
       "      <td>57.772410<\/td>\n",
       "      <td>181.529167<\/td>\n",
       "      <td>9750<\/td>\n",
       "    <\/tr>\n",
       "    <tr>\n",
       "      <th>Middle East &amp; North Africa<\/th>\n",
       "      <td>17.696025<\/td>\n",
       "      <td>47.867778<\/td>\n",
       "      <td>6415<\/td>\n",
       "    <\/tr>\n",
       "    <tr>\n",
       "      <th>North America(region)<\/th>\n",
       "      <td>534.744557<\/td>\n",
       "      <td>759.732535<\/td>\n",
       "      <td>689<\/td>\n",
       "    <\/tr>\n",
       "    <tr>\n",
       "      <th>South Asia<\/th>\n",
       "      <td>67.306966<\/td>\n",
       "      <td>204.340594<\/td>\n",
       "      <td>2541<\/td>\n",
       "    <\/tr>\n",
       "    <tr>\n",
       "      <th>Sub-Saharan Africa<\/th>\n",
       "      <td>3.070567<\/td>\n",
       "      <td>20.413941<\/td>\n",
       "      <td>13519<\/td>\n",
       "    <\/tr>\n",
       "  <\/tbody>\n",
       "<\/table>\n",
       "<\/div>"
      ]
     },
     "metadata":{
      
     },
     "output_type":"display_data"
    }
   ],
   "metadata":{
    "datalore":{
     "type":"CODE",
     "hide_input_from_viewers":false,
     "hide_output_from_viewers":false
    }
   }
  },
  {
   "cell_type":"code",
   "source":[
    "ci95_hi = []\n",
    "ci95_lo = []"
   ],
   "execution_count":70,
   "outputs":[
    
   ],
   "metadata":{
    "datalore":{
     "type":"CODE",
     "hide_input_from_viewers":false,
     "hide_output_from_viewers":false
    }
   }
  },
  {
   "cell_type":"code",
   "source":[
    "for i in stats.index:\n",
    "    m, s, n = stats.loc[i]\n",
    "    x=scipy.stats.t.interval(.95, n-1, m,s\/np.sqrt(n-1))\n",
    "    ci95_hi.append(x[1])\n",
    "    ci95_lo.append(x[0])"
   ],
   "execution_count":71,
   "outputs":[
    
   ],
   "metadata":{
    "datalore":{
     "type":"CODE",
     "hide_input_from_viewers":false,
     "hide_output_from_viewers":false
    }
   }
  },
  {
   "cell_type":"code",
   "source":[
    "stats['ci95_hi'] = ci95_hi\n",
    "stats['ci95_lo'] = ci95_lo\n",
    "print(stats)"
   ],
   "execution_count":72,
   "outputs":[
    {
     "name":"stdout",
     "text":[
      "                               ddeaths                        ci95_hi  \\\n",
      "                                  mean         std   size               \n",
      "region                                                                  \n",
      "East Asia & Pacific           7.110776   27.950752   6301    7.801103   \n",
      "Europe & Central Asia        36.913612  111.023170  15743   38.648076   \n",
      "Latin America & Caribbean    57.772410  181.529167   9750   61.376274   \n",
      "Middle East & North Africa   17.696025   47.867778   6415   18.867704   \n",
      "North America(region)       534.744557  759.732535    689  591.614040   \n",
      "South Asia                   67.306966  204.340594   2541   75.257437   \n",
      "Sub-Saharan Africa            3.070567   20.413941  13519    3.414725   \n",
      "\n",
      "                               ci95_lo  \n",
      "                                        \n",
      "region                                  \n",
      "East Asia & Pacific           6.420449  \n",
      "Europe & Central Asia        35.179149  \n",
      "Latin America & Caribbean    54.168546  \n",
      "Middle East & North Africa   16.524345  \n",
      "North America(region)       477.875074  \n",
      "South Asia                   59.356494  \n",
      "Sub-Saharan Africa            2.726410  \n"
     ],
     "output_type":"stream"
    }
   ],
   "metadata":{
    "datalore":{
     "type":"CODE",
     "hide_input_from_viewers":false,
     "hide_output_from_viewers":false
    }
   }
  },
  {
   "cell_type":"code",
   "source":[
    "df_ci= pd.DataFrame(stats)\n",
    "df_ci['region']=df_ci.index"
   ],
   "execution_count":73,
   "outputs":[
    
   ],
   "metadata":{
    "datalore":{
     "type":"CODE",
     "hide_input_from_viewers":false,
     "hide_output_from_viewers":false
    }
   }
  },
  {
   "cell_type":"code",
   "source":[
    "for lb,ub,y in zip(df_ci['ci95_lo'],df_ci['ci95_hi'],range(len(df_ci))):\n",
    "    plt.plot((lb,ub),(y,y),'ro-')\n",
    "plt.yticks(range(len(df_ci)),list(df_ci['region']))"
   ],
   "execution_count":74,
   "outputs":[
    {
     "data":{
      "text\/plain":[
       "([<matplotlib.axis.YTick at 0x7fef06c879a0>,\n",
       "  <matplotlib.axis.YTick at 0x7fef06c81e20>,\n",
       "  <matplotlib.axis.YTick at 0x7fef06c812b0>,\n",
       "  <matplotlib.axis.YTick at 0x7fef06c3e580>,\n",
       "  <matplotlib.axis.YTick at 0x7fef06c3ecd0>,\n",
       "  <matplotlib.axis.YTick at 0x7fef06c3e940>,\n",
       "  <matplotlib.axis.YTick at 0x7fef06c46610>],\n",
       " [Text(0, 0, 'East Asia & Pacific'),\n",
       "  Text(0, 1, 'Europe & Central Asia'),\n",
       "  Text(0, 2, 'Latin America & Caribbean'),\n",
       "  Text(0, 3, 'Middle East & North Africa'),\n",
       "  Text(0, 4, 'North America(region)'),\n",
       "  Text(0, 5, 'South Asia'),\n",
       "  Text(0, 6, 'Sub-Saharan Africa')])"
      ],
      "image\/png":"[encoded data removed]"
     },
     "metadata":{
      "image\/png":{
       
      }
     },
     "output_type":"display_data"
    }
   ],
   "metadata":{
    "datalore":{
     "type":"CODE",
     "hide_input_from_viewers":false,
     "hide_output_from_viewers":false
    }
   }
  },
  {
   "cell_type":"markdown",
   "source":[
    "this shows that north America had the highest probability of number of deaths among the regions in 2020. this is probably because of the elections period in north america that occurred in 2020"
   ],
   "attachments":{
    
   },
   "metadata":{
    "datalore":{
     "type":"MD",
     "hide_input_from_viewers":false,
     "hide_output_from_viewers":false
    }
   }
  },
  {
   "cell_type":"markdown",
   "source":[
    "#### In this part, im going to analyze the following: the probability of cases in 2021 regarding the income level"
   ],
   "attachments":{
    
   },
   "metadata":{
    "datalore":{
     "type":"MD",
     "hide_input_from_viewers":false,
     "hide_output_from_viewers":false
    }
   }
  },
  {
   "cell_type":"code",
   "source":[
    "df['income'].unique()"
   ],
   "execution_count":75,
   "outputs":[
    {
     "data":{
      "text\/html":[
       
      ]
     },
     "metadata":{
      
     },
     "output_type":"display_data"
    }
   ],
   "metadata":{
    "datalore":{
     "type":"CODE",
     "hide_input_from_viewers":false,
     "hide_output_from_viewers":false
    }
   }
  },
  {
   "cell_type":"code",
   "source":[
    "from pandas.api.types import CategoricalDtype\n",
    "cats=['Low income', 'Lower middle income', 'Upper middle income','High income']\n",
    "cat_type = CategoricalDtype(categories=cats, ordered=True)\n",
    "df['income'] = df['income'].astype(cat_type)"
   ],
   "execution_count":76,
   "outputs":[
    
   ],
   "metadata":{
    "datalore":{
     "type":"CODE",
     "hide_input_from_viewers":false,
     "hide_output_from_viewers":false
    }
   }
  },
  {
   "cell_type":"code",
   "source":[
    "stats=df2021.groupby(\"income\").agg({\"dcases\": [np.mean, np.std, np.size]})\n",
    "stats\n",
    "ci95_hi = []\n",
    "ci95_lo = []"
   ],
   "execution_count":77,
   "outputs":[
    
   ],
   "metadata":{
    "datalore":{
     "type":"CODE",
     "hide_input_from_viewers":false,
     "hide_output_from_viewers":false
    }
   }
  },
  {
   "cell_type":"code",
   "source":[
    "ci95_hi = []\n",
    "ci95_lo = []\n",
    "for i in stats.index:\n",
    "    m, s, n = stats.loc[i]\n",
    "    x=scipy.stats.t.interval(.95, n-1, m,s\/np.sqrt(n-1))\n",
    "    ci95_hi.append(x[1])\n",
    "    ci95_lo.append(x[0])\n",
    "stats['ci95_hi'] = ci95_hi\n",
    "stats['ci95_lo'] = ci95_lo\n",
    "print(stats)"
   ],
   "execution_count":78,
   "outputs":[
    {
     "name":"stdout",
     "text":[
      "                          dcases                           ci95_hi  \\\n",
      "                            mean           std   size                \n",
      "income                                                               \n",
      "High income          4520.954339  18317.784729  20937  4769.095778   \n",
      "Low income            168.681058    657.105911  10585   181.201170   \n",
      "Lower middle income  2550.449589  17762.604302  16653  2820.256518   \n",
      "Upper middle income  3368.106393   8585.182602  19710  3487.971286   \n",
      "\n",
      "                         ci95_lo  \n",
      "                                  \n",
      "income                            \n",
      "High income          4272.812901  \n",
      "Low income            156.160946  \n",
      "Lower middle income  2280.642659  \n",
      "Upper middle income  3248.241499  \n"
     ],
     "output_type":"stream"
    }
   ],
   "metadata":{
    "datalore":{
     "type":"CODE",
     "hide_input_from_viewers":false,
     "hide_output_from_viewers":false
    }
   }
  },
  {
   "cell_type":"code",
   "source":[
    "df_ci= pd.DataFrame(stats)\n",
    "df_ci['income']=df_ci.index"
   ],
   "execution_count":79,
   "outputs":[
    
   ],
   "metadata":{
    "datalore":{
     "type":"CODE",
     "hide_input_from_viewers":false,
     "hide_output_from_viewers":false
    }
   }
  },
  {
   "cell_type":"code",
   "source":[
    "for lb,ub,y in zip(df_ci['ci95_lo'],df_ci['ci95_hi'],range(len(df_ci))):\n",
    "    plt.plot((lb,ub),(y,y),'ro-')\n",
    "plt.yticks(range(len(df_ci)),list(df_ci['income']))"
   ],
   "execution_count":80,
   "outputs":[
    {
     "data":{
      "text\/plain":[
       "([<matplotlib.axis.YTick at 0x7fef06c054f0>,\n",
       "  <matplotlib.axis.YTick at 0x7fef06bfdd00>,\n",
       "  <matplotlib.axis.YTick at 0x7fef06bfd220>,\n",
       "  <matplotlib.axis.YTick at 0x7fef06c2f790>],\n",
       " [Text(0, 0, 'High income'),\n",
       "  Text(0, 1, 'Low income'),\n",
       "  Text(0, 2, 'Lower middle income'),\n",
       "  Text(0, 3, 'Upper middle income')])"
      ],
      "image\/png":"[encoded data removed]"
     },
     "metadata":{
      "image\/png":{
       
      }
     },
     "output_type":"display_data"
    }
   ],
   "metadata":{
    "datalore":{
     "type":"CODE",
     "hide_input_from_viewers":false,
     "hide_output_from_viewers":false
    }
   }
  },
  {
   "cell_type":"markdown",
   "source":[
    "it shows that the higher the income, the higher the probability of cases in 2021. this can be interpreted as the higher the income, the more often the person travels, and travelling at that time was dangerous because you could get Covid."
   ],
   "attachments":{
    
   },
   "metadata":{
    "datalore":{
     "type":"MD",
     "hide_input_from_viewers":false,
     "hide_output_from_viewers":false
    }
   }
  },
  {
   "cell_type":"markdown",
   "source":[
    "#### In this part, im going to analyze the following: the probability of deaths in different continents"
   ],
   "attachments":{
    
   },
   "metadata":{
    "datalore":{
     "type":"MD",
     "hide_input_from_viewers":false,
     "hide_output_from_viewers":false
    }
   }
  },
  {
   "cell_type":"code",
   "source":[
    "df['continent'].unique()"
   ],
   "execution_count":81,
   "outputs":[
    {
     "data":{
      "text\/html":[
       
      ]
     },
     "metadata":{
      
     },
     "output_type":"display_data"
    }
   ],
   "metadata":{
    "datalore":{
     "type":"CODE",
     "hide_input_from_viewers":false,
     "hide_output_from_viewers":false
    }
   }
  },
  {
   "cell_type":"code",
   "source":[
    "from pandas.api.types import CategoricalDtype\n",
    "cats=['Asia', 'Africa', 'Europe','South America(continent)', 'North America(continent)', 'Oceania']\n",
    "cat_type = CategoricalDtype(categories=cats, ordered=True)\n",
    "df['continent'] = df['continent'].astype(cat_type)"
   ],
   "execution_count":87,
   "outputs":[
    
   ],
   "metadata":{
    "datalore":{
     "type":"CODE",
     "hide_input_from_viewers":false,
     "hide_output_from_viewers":false
    }
   }
  },
  {
   "cell_type":"code",
   "source":[
    "stats=df.groupby(\"continent\").agg({\"ddeaths\": [np.mean, np.std, np.size]})\n",
    "stats"
   ],
   "execution_count":88,
   "outputs":[
    {
     "data":{
      "text\/html":[
       "<div>\n",
       "<style scoped>\n",
       "    .dataframe tbody tr th:only-of-type {\n",
       "        vertical-align: middle;\n",
       "    }\n",
       "\n",
       "    .dataframe tbody tr th {\n",
       "        vertical-align: top;\n",
       "    }\n",
       "\n",
       "    .dataframe thead tr th {\n",
       "        text-align: left;\n",
       "    }\n",
       "\n",
       "    .dataframe thead tr:last-of-type th {\n",
       "        text-align: right;\n",
       "    }\n",
       "<\/style>\n",
       "<table border=\"1\" class=\"dataframe\">\n",
       "  <thead>\n",
       "    <tr>\n",
       "      <th><\/th>\n",
       "      <th colspan=\"3\" halign=\"left\">ddeaths<\/th>\n",
       "    <\/tr>\n",
       "    <tr>\n",
       "      <th><\/th>\n",
       "      <th>mean<\/th>\n",
       "      <th>std<\/th>\n",
       "      <th>size<\/th>\n",
       "    <\/tr>\n",
       "    <tr>\n",
       "      <th>continent<\/th>\n",
       "      <th><\/th>\n",
       "      <th><\/th>\n",
       "      <th><\/th>\n",
       "    <\/tr>\n",
       "  <\/thead>\n",
       "  <tbody>\n",
       "    <tr>\n",
       "      <th>Asia<\/th>\n",
       "      <td>40.516863<\/td>\n",
       "      <td>192.130158<\/td>\n",
       "      <td>31103.0<\/td>\n",
       "    <\/tr>\n",
       "    <tr>\n",
       "      <th>Africa<\/th>\n",
       "      <td>6.588286<\/td>\n",
       "      <td>31.043424<\/td>\n",
       "      <td>34677.0<\/td>\n",
       "    <\/tr>\n",
       "    <tr>\n",
       "      <th>Europe<\/th>\n",
       "      <td>52.627530<\/td>\n",
       "      <td>140.575791<\/td>\n",
       "      <td>29103.0<\/td>\n",
       "    <\/tr>\n",
       "    <tr>\n",
       "      <th>South America(continent)<\/th>\n",
       "      <td>NaN<\/td>\n",
       "      <td>NaN<\/td>\n",
       "      <td>NaN<\/td>\n",
       "    <\/tr>\n",
       "    <tr>\n",
       "      <th>North America(continent)<\/th>\n",
       "      <td>NaN<\/td>\n",
       "      <td>NaN<\/td>\n",
       "      <td>NaN<\/td>\n",
       "    <\/tr>\n",
       "    <tr>\n",
       "      <th>Oceania<\/th>\n",
       "      <td>0.758323<\/td>\n",
       "      <td>3.094773<\/td>\n",
       "      <td>4746.0<\/td>\n",
       "    <\/tr>\n",
       "  <\/tbody>\n",
       "<\/table>\n",
       "<\/div>"
      ]
     },
     "metadata":{
      
     },
     "output_type":"display_data"
    }
   ],
   "metadata":{
    "datalore":{
     "type":"CODE",
     "hide_input_from_viewers":false,
     "hide_output_from_viewers":false
    }
   }
  },
  {
   "cell_type":"code",
   "source":[
    "ci95_hi = []\n",
    "ci95_lo = []\n",
    "for i in stats.index:\n",
    "    m, s, n = stats.loc[i]\n",
    "    x=scipy.stats.t.interval(.95, n-1, m,s\/np.sqrt(n-1))\n",
    "    ci95_hi.append(x[1])\n",
    "    ci95_lo.append(x[0])\n",
    "stats['ci95_hi'] = ci95_hi\n",
    "stats['ci95_lo'] = ci95_lo\n",
    "print(stats)"
   ],
   "execution_count":89,
   "outputs":[
    {
     "name":"stdout",
     "text":[
      "                            ddeaths                         ci95_hi    ci95_lo\n",
      "                               mean         std     size                      \n",
      "continent                                                                     \n",
      "Asia                      40.516863  192.130158  31103.0  42.652200  38.381527\n",
      "Africa                     6.588286   31.043424  34677.0   6.915038   6.261534\n",
      "Europe                    52.627530  140.575791  29103.0  54.242689  51.012371\n",
      "South America(continent)        NaN         NaN      NaN        NaN        NaN\n",
      "North America(continent)        NaN         NaN      NaN        NaN        NaN\n",
      "Oceania                    0.758323    3.094773   4746.0   0.846401   0.670244\n"
     ],
     "output_type":"stream"
    }
   ],
   "metadata":{
    "datalore":{
     "type":"CODE",
     "hide_input_from_viewers":false,
     "hide_output_from_viewers":false
    }
   }
  },
  {
   "cell_type":"code",
   "source":[
    "df_ci= pd.DataFrame(stats)\n",
    "df_ci['continent']=df_ci.index"
   ],
   "execution_count":85,
   "outputs":[
    
   ],
   "metadata":{
    "datalore":{
     "type":"CODE",
     "hide_input_from_viewers":false,
     "hide_output_from_viewers":false
    }
   }
  },
  {
   "cell_type":"code",
   "source":[
    "for lb,ub,y in zip(df_ci['ci95_lo'],df_ci['ci95_hi'],range(len(df_ci))):\n",
    "    plt.plot((lb,ub),(y,y),'ro-')\n",
    "plt.yticks(range(len(df_ci)),list(df_ci['continent']))"
   ],
   "execution_count":86,
   "outputs":[
    {
     "data":{
      "text\/plain":[
       "([<matplotlib.axis.YTick at 0x7feefc26e730>,\n",
       "  <matplotlib.axis.YTick at 0x7feefc268f70>,\n",
       "  <matplotlib.axis.YTick at 0x7feefc268070>,\n",
       "  <matplotlib.axis.YTick at 0x7feefc2250a0>,\n",
       "  <matplotlib.axis.YTick at 0x7feefc225730>,\n",
       "  <matplotlib.axis.YTick at 0x7feefc225c10>],\n",
       " [Text(0, 0, 'Asia'),\n",
       "  Text(0, 1, 'Africa'),\n",
       "  Text(0, 2, 'Europe'),\n",
       "  Text(0, 3, 'South America'),\n",
       "  Text(0, 4, 'North America'),\n",
       "  Text(0, 5, 'Oceania')])"
      ],
      "image\/png":"[encoded data removed]"
     },
     "metadata":{
      "image\/png":{
       
      }
     },
     "output_type":"display_data"
    }
   ],
   "metadata":{
    "datalore":{
     "type":"CODE",
     "hide_input_from_viewers":false,
     "hide_output_from_viewers":false
    }
   }
  },
  {
   "cell_type":"markdown",
   "source":[
    "Europe had the highest probability of deaths, this can be because of the high number of old-aged people in Europe which affects the mortality rate of Covid 19"
   ],
   "attachments":{
    
   },
   "metadata":{
    "datalore":{
     "type":"MD",
     "hide_input_from_viewers":false,
     "hide_output_from_viewers":false
    }
   }
  },
  {
   "cell_type":"code",
   "source":[
    
   ],
   "execution_count":0,
   "outputs":[
    
   ],
   "metadata":{
    "datalore":{
     "type":"CODE",
     "hide_input_from_viewers":false,
     "hide_output_from_viewers":false
    }
   }
  },
  {
   "cell_type":"code",
   "source":[
    
   ],
   "execution_count":0,
   "outputs":[
    
   ],
   "metadata":{
    "datalore":{
     "type":"CODE",
     "hide_input_from_viewers":false,
     "hide_output_from_viewers":false
    }
   }
  },
  {
   "cell_type":"code",
   "source":[
    
   ],
   "execution_count":0,
   "outputs":[
    
   ],
   "metadata":{
    "datalore":{
     "type":"CODE",
     "hide_input_from_viewers":false,
     "hide_output_from_viewers":false
    }
   }
  },
  {
   "cell_type":"code",
   "source":[
    
   ],
   "execution_count":0,
   "outputs":[
    
   ],
   "metadata":{
    "datalore":{
     "type":"CODE",
     "hide_input_from_viewers":false,
     "hide_output_from_viewers":false
    }
   }
  }
 ],
 "metadata":{
  "datalore":{
   "version":1,
   "computation_mode":"JUPYTER",
   "package_manager":"pip",
   "base_environment":"default",
   "packages":[
    
   ]
  }
 },
 "nbformat":4,
 "nbformat_minor":4
}